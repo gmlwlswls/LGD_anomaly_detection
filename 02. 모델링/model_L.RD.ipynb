{
 "cells": [
  {
   "cell_type": "code",
   "execution_count": null,
   "metadata": {},
   "outputs": [],
   "source": [
    "# 머신러닝 10개의 피쳐를 가진 예측 문제에서 선형 회귀 모델을 학습하려면 100~500개의 데이터 필요\n",
    "# 딥러닝 10개의 클래스를 분류하는 CNN모델의 경우 클래스당 1000개 이상 필요\n",
    "\n",
    "# 현재 약 100개의 피쳐\n",
    "\n",
    "# 해결 방법\n",
    "# 1) 언더샘플링 - 무작위 샘플링하여 데이터 비율 맞추는 방법(데이터 손실 주의)\n",
    "# 2) 오버샘플링 - 소수 클래스를 중복 생성하여 비율 맞추는 방법(과적합 주의)\n",
    "# 3) 차원 축소\n",
    "# 4) 클래스 가중치 조정 - 소수 클래스에 더 큰 가중치 부여 : sklearn의 class_weight 매개변수\n",
    "# 5) 앙상블 모델 - 여러 모델을 조합하여 성능을 내는 방법 - 랜덤 포레스트나 배깅과 같은 앙상블 기법\n",
    "\n",
    "# 평가 지표 선택\n",
    "# 불균형 데이터의 경우 정확도만으로 성능 평가가 어려움\n",
    "# 정밀도, 재현율, F1 점수, AUC-ROC\n",
    "\n",
    "# 랜덤 포레스트/XGBoost와 같은 머신 러닝 모델 시도\n",
    "# 충분한 성능을 얻지 못한다면 데이터 증강 및 오버 샘플링을 사용하여 딥러닝 모델 시도"
   ]
  },
  {
   "cell_type": "code",
   "execution_count": null,
   "metadata": {},
   "outputs": [],
   "source": []
  }
 ],
 "metadata": {
  "kernelspec": {
   "display_name": "base",
   "language": "python",
   "name": "python3"
  },
  "language_info": {
   "name": "python",
   "version": "3.11.5"
  }
 },
 "nbformat": 4,
 "nbformat_minor": 2
}
