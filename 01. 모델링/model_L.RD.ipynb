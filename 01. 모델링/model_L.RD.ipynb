{
 "cells": [
  {
   "cell_type": "code",
   "execution_count": null,
   "metadata": {},
   "outputs": [],
   "source": [
    "# 피쳐 엔지니어링 - 피쳐 선택(다중 공선성 제거), 피쳐 추출(PCA, BGM) > 설명 수정"
   ]
  },
  {
   "cell_type": "markdown",
   "metadata": {},
   "source": [
    "# 분류 모델"
   ]
  },
  {
   "cell_type": "code",
   "execution_count": 1,
   "metadata": {},
   "outputs": [],
   "source": [
    "import pandas as pd\n",
    "import numpy as numpy\n",
    "import matplotlib.pyplot as plt"
   ]
  },
  {
   "cell_type": "code",
   "execution_count": 2,
   "metadata": {},
   "outputs": [
    {
     "name": "stdout",
     "output_type": "stream",
     "text": [
      "<class 'pandas.core.frame.DataFrame'>\n",
      "Index: 2094 entries, 2016-02-22 23:00:00 to 2016-12-31 01:00:00\n",
      "Data columns (total 98 columns):\n",
      " #   Column                                 Non-Null Count  Dtype  \n",
      "---  ------                                 --------------  -----  \n",
      " 0   X1WOS45106_PV                          2094 non-null   float64\n",
      " 1   X1WOS45109_PV                          2094 non-null   float64\n",
      " 2   DB.N2.SCREEN.FLOW.LEFT.1FI49011_PV     2094 non-null   float64\n",
      " 3   N2.TO.EA1313A.1FI33503A_PV             2094 non-null   float64\n",
      " 4   ROOF.HEATING.Zone.1.1JIC31101.PV       2094 non-null   float64\n",
      " 5   ROOF.HEATING.Zone.2.1JIC31102.PV       2094 non-null   float64\n",
      " 6   ROOF.HEATING.Zone.3.1JIC31103.PV       2094 non-null   float64\n",
      " 7   ROOF.HEATING.Zone.4.1JIC31104.PV       2094 non-null   float64\n",
      " 8   ATM.FLOW.SECT.9.N2.1FIC33415.PV        2094 non-null   float64\n",
      " 9   Gross.width                            2094 non-null   float64\n",
      " 10  UPPER.AB1.Z1.TMP.1TIC41101.PV          2094 non-null   float64\n",
      " 11  LOWER.AB1.Z9.TMP.1TIC41152.PV          2094 non-null   float64\n",
      " 12  UPPER.AB8.Z99.TMP.1TIC41801.PV         2094 non-null   float64\n",
      " 13  LIFT.OUT.ROL.MTR.M1.CUR.1WII40101.PV   2094 non-null   float64\n",
      " 14  LIFT.OUT.ROL.MTR.M2.CUR.1WII40102.PV   2094 non-null   float64\n",
      " 15  LEHR.DRV.MTR..M8.1.CUR.1WII40112.PV    2094 non-null   float64\n",
      " 16  LEHR.DRV.MTR..M12.1.CUR.1WII40120.PV   2094 non-null   float64\n",
      " 17  LEHR.DRV.MTR..M15.1.CUR.1WII40126.PV   2094 non-null   float64\n",
      " 18  LEHR.DRV.MTR..M18.1.CUR.1WII40132.PV   2094 non-null   float64\n",
      " 19  LEHR.DRV.MTR..M19.1.CUR.1WII40134.PV   2094 non-null   float64\n",
      " 20  X1WOS45106_PV.1                        2094 non-null   float64\n",
      " 21  DCS_Offset_RPM_M11.1WOS45111_PV.1      2094 non-null   float64\n",
      " 22  TMP.TIN..BAY.1.LEFT.1TI30201.PV        2094 non-null   float64\n",
      " 23  X.1.BAY.LEFT.PRESSURE.1CLBAY1LEFT_CPV  2094 non-null   float64\n",
      " 24  X.7.BAY.LEFT.PRESSURE.1CLBAY7LEFT_CPV  2094 non-null   float64\n",
      " 25  X.1.LEHR.SO2.ANALYZER.1AI44110.PV      2094 non-null   float64\n",
      " 26  X.1.LEHR.O2.ANALYZER.1AI44111.PV       2094 non-null   float64\n",
      " 27  X.2.LEHR.SO2.ANALYZER.1AI44112.PV      2094 non-null   float64\n",
      " 28  X.2.LEHR.O2.ANALYZER.1AI44113.PV       2094 non-null   float64\n",
      " 29  N2.TO.EA1313B.1FI33527A_PV             2094 non-null   float64\n",
      " 30  N2.TO.HOOD.DOWN.STREAM.1FI33505A_PV    2094 non-null   float64\n",
      " 31  LEHR.AB1.PRESS.1PI40302.PV             2094 non-null   float64\n",
      " 32  DB.HEAT.TOP.7.1.TMP.1TI40307.PV        2094 non-null   float64\n",
      " 33  HOOD.N2.TOP.HEATER.L..1JI39007.PV      2094 non-null   float64\n",
      " 34  DB.HEAT.BOTTOM.1.1JIC40308.PV          2094 non-null   float64\n",
      " 35  DB.HEAT.BOTTOM.3.1JIC40310.PV          2094 non-null   float64\n",
      " 36  DB.HEAT.BOTTOM.4.1JIC40311.PV          2094 non-null   float64\n",
      " 37  DB.HEAT.BOTTOM.7.1JIC40314.PV          2094 non-null   float64\n",
      " 38  ROOF.HT.BAY.3.TOTAL.PWR.1CLBAY3_CPV    2094 non-null   float64\n",
      " 39  ROOF.HT.BAY.8.TOTAL.PWR.1CLBAY8_CPV    2094 non-null   float64\n",
      " 40  ROOF.HT.BAY.9.TOTAL.PWR.1CLBAY9_CPV    2094 non-null   float64\n",
      " 41  ROOF.HEATING.Zone.3.1JIC31103.PV.1     2094 non-null   float64\n",
      " 42  ROOF.HEATING.Zone.4.1JIC31104.PV.1     2094 non-null   float64\n",
      " 43  ROOF.HEATING.Zone.5.1JIC31105.PV       2094 non-null   float64\n",
      " 44  ROOF.HEATING.Zone.6.1JIC31106.PV       2094 non-null   float64\n",
      " 45  ROOF.HEATING.Zone21.1JIC31121.PV       2094 non-null   float64\n",
      " 46  ROOF.HEATING.Zone31.1JIC31131.PV       2094 non-null   float64\n",
      " 47  ROOF.HEATING.Zone39.1JIC31139.PV       2094 non-null   float64\n",
      " 48  ROOF.HEATING.Zone45.1JIC31145.PV       2094 non-null   float64\n",
      " 49  ROOF.HEATING.Zone53.1JIC31153.PV       2094 non-null   float64\n",
      " 50  ROOF.HEATING.Zone55.1JIC31155.PV       2094 non-null   float64\n",
      " 51  ROOF.HEATING.Zone57.1JIC31157.PV       2094 non-null   float64\n",
      " 52  ROOF.HEATING.Zone60.1JIC31160.PV       2094 non-null   float64\n",
      " 53  ROOF.HEATING.Zone73.1JIC31173.PV       2094 non-null   float64\n",
      " 54  ROOF.HEATING.Zone86.1JIC31186.PV       2094 non-null   float64\n",
      " 55  ATM.FLOW.SECT.2.N2.1FI33401.PV         2094 non-null   float64\n",
      " 56  ATM.FLOW.SECT.3.N2.1FI33403.PV         2094 non-null   float64\n",
      " 57  ATM.FLOW.SECT.6.N2.1FI33409.PV         2094 non-null   float64\n",
      " 58  ATM.FLOW.SECT.8.N2.1FI33413.PV         2094 non-null   float64\n",
      " 59  ATM.FLOW.SECT.1.N2.H2.1FI33424.PV      2094 non-null   float64\n",
      " 60  SPOUT.LEFT.UPSTREAM.1FI33511.PV        2094 non-null   float64\n",
      " 61  SPOUT.LEFT.TOP.1FI33514.PV             2094 non-null   float64\n",
      " 62  ATM.N2.H2.5..함유율.1CLFI33402_CPV        2094 non-null   float64\n",
      " 63  LOR.1.L.Hori                           2094 non-null   float64\n",
      " 64  LOR.2.L.Axis                           2094 non-null   float64\n",
      " 65  LOR.2.L.Hori                           2094 non-null   float64\n",
      " 66  LOR.3.L.Axis                           2094 non-null   float64\n",
      " 67  LOR.3.L.Hori                           2094 non-null   float64\n",
      " 68  l_r_tin_bay10                          2094 non-null   float64\n",
      " 69  lc_rc_btm_dn                           2094 non-null   float64\n",
      " 70  c_btm_up_dn                            2094 non-null   float64\n",
      " 71  top_1                                  2094 non-null   float64\n",
      " 72  top_5                                  2094 non-null   float64\n",
      " 73  D_AB2_L_LR                             2094 non-null   float64\n",
      " 74  D_AB5_L_LR                             2094 non-null   float64\n",
      " 75  D_AB10_U_LR                            2094 non-null   float64\n",
      " 76  D_AB11_U_LR                            2094 non-null   float64\n",
      " 77  D_AB11_L_LR                            2094 non-null   float64\n",
      " 78  D_AB2_R_UL                             2094 non-null   float64\n",
      " 79  D_AB9_R_UL                             2094 non-null   float64\n",
      " 80  D_C4_U_LR                              2094 non-null   float64\n",
      " 81  D_C4_L_LR                              2094 non-null   float64\n",
      " 82  D_GLS_F_LR                             2094 non-null   float64\n",
      " 83  D_GLS_RET_LR                           2094 non-null   float64\n",
      " 84  S_AB1_AB2_U_L                          2094 non-null   float64\n",
      " 85  S_AB1_AB2_U_R                          2094 non-null   float64\n",
      " 86  S_AB2_AB3_U_R                          2094 non-null   float64\n",
      " 87  S_AB8_AB9_L_L                          2094 non-null   float64\n",
      " 88  S_AB9_AB10_L_L                         2094 non-null   float64\n",
      " 89  S_C2_C3_U_R                            2094 non-null   float64\n",
      " 90  투입.LEFT.                               2094 non-null   float64\n",
      " 91  ROLLDOWN.폐기.LEFT.                      2094 non-null   float64\n",
      " 92  진공패드.폐기.LEFT.                          2094 non-null   float64\n",
      " 93  폐기율...                                 2094 non-null   float64\n",
      " 94  bgm_feature_0                          2094 non-null   float64\n",
      " 95  bgm_feature_1                          2094 non-null   float64\n",
      " 96  bgm_feature_2                          2094 non-null   float64\n",
      " 97  RD_defect                              2094 non-null   int64  \n",
      "dtypes: float64(97), int64(1)\n",
      "memory usage: 1.6+ MB\n"
     ]
    }
   ],
   "source": [
    "RD_sample_df = pd.read_csv('../data/RD_sample_df.csv', index_col= 0)\n",
    "RD_sample_df.info()"
   ]
  },
  {
   "cell_type": "code",
   "execution_count": 5,
   "metadata": {},
   "outputs": [
    {
     "data": {
      "text/plain": [
       "(2094, 97)"
      ]
     },
     "execution_count": 5,
     "metadata": {},
     "output_type": "execute_result"
    }
   ],
   "source": [
    "X = RD_sample_df.iloc[:, :-1]\n",
    "y= RD_sample_df['RD_defect']\n",
    "\n",
    "X.shape"
   ]
  },
  {
   "cell_type": "code",
   "execution_count": 6,
   "metadata": {},
   "outputs": [
    {
     "data": {
      "text/plain": [
       "(1675, 97)"
      ]
     },
     "execution_count": 6,
     "metadata": {},
     "output_type": "execute_result"
    }
   ],
   "source": [
    "from sklearn.model_selection import train_test_split\n",
    "\n",
    "X_train, X_test, y_train, y_test = train_test_split(X, y, test_size= 0.2, random_state= 42)\n",
    "X_train.shape"
   ]
  },
  {
   "cell_type": "code",
   "execution_count": null,
   "metadata": {},
   "outputs": [],
   "source": [
    "# 분류 모델\n",
    "\n",
    "# 로지스틱 회귀\n",
    "# 트리 기반 모델 : RandomForest, CatBoost\n",
    "# 딥러닝 : 간단한 MLP\n",
    "\n",
    "# 평가 지표\n",
    "# ROC-AUC, Precision-Recall Curve, F1 Score 등\n",
    "\n",
    "# Recall: 실제 불량 데이터 중 모델이 불량으로 예측한 비율"
   ]
  },
  {
   "cell_type": "markdown",
   "metadata": {},
   "source": [
    "## 앙상블 - 랜덤포레스트"
   ]
  },
  {
   "cell_type": "code",
   "execution_count": 9,
   "metadata": {},
   "outputs": [
    {
     "data": {
      "text/html": [
       "<div>\n",
       "<style scoped>\n",
       "    .dataframe tbody tr th:only-of-type {\n",
       "        vertical-align: middle;\n",
       "    }\n",
       "\n",
       "    .dataframe tbody tr th {\n",
       "        vertical-align: top;\n",
       "    }\n",
       "\n",
       "    .dataframe thead th {\n",
       "        text-align: right;\n",
       "    }\n",
       "</style>\n",
       "<table border=\"1\" class=\"dataframe\">\n",
       "  <thead>\n",
       "    <tr style=\"text-align: right;\">\n",
       "      <th></th>\n",
       "      <th>Feature</th>\n",
       "      <th>Importance</th>\n",
       "    </tr>\n",
       "  </thead>\n",
       "  <tbody>\n",
       "    <tr>\n",
       "      <th>91</th>\n",
       "      <td>ROLLDOWN.폐기.LEFT.</td>\n",
       "      <td>0.350501</td>\n",
       "    </tr>\n",
       "    <tr>\n",
       "      <th>93</th>\n",
       "      <td>폐기율...</td>\n",
       "      <td>0.111033</td>\n",
       "    </tr>\n",
       "    <tr>\n",
       "      <th>4</th>\n",
       "      <td>ROOF.HEATING.Zone.1.1JIC31101.PV</td>\n",
       "      <td>0.023545</td>\n",
       "    </tr>\n",
       "    <tr>\n",
       "      <th>89</th>\n",
       "      <td>S_C2_C3_U_R</td>\n",
       "      <td>0.017725</td>\n",
       "    </tr>\n",
       "    <tr>\n",
       "      <th>2</th>\n",
       "      <td>DB.N2.SCREEN.FLOW.LEFT.1FI49011_PV</td>\n",
       "      <td>0.015990</td>\n",
       "    </tr>\n",
       "  </tbody>\n",
       "</table>\n",
       "</div>"
      ],
      "text/plain": [
       "                               Feature  Importance\n",
       "91                   ROLLDOWN.폐기.LEFT.    0.350501\n",
       "93                              폐기율...    0.111033\n",
       "4     ROOF.HEATING.Zone.1.1JIC31101.PV    0.023545\n",
       "89                         S_C2_C3_U_R    0.017725\n",
       "2   DB.N2.SCREEN.FLOW.LEFT.1FI49011_PV    0.015990"
      ]
     },
     "execution_count": 9,
     "metadata": {},
     "output_type": "execute_result"
    }
   ],
   "source": [
    "# Feature Importance\n",
    "from sklearn.ensemble import RandomForestClassifier\n",
    "\n",
    "rf_clf = RandomForestClassifier(n_estimators= 100, random_state= 42)\n",
    "rf_clf.fit(X_train, y_train)\n",
    "\n",
    "rf_importances = rf_clf.feature_importances_\n",
    "\n",
    "rf_importances_df = pd.DataFrame({\n",
    "                                  'Feature' : X_train.columns,\n",
    "                                  'Importance' : rf_importances})\n",
    "top_5_feat = rf_importances_df.sort_values(by= 'Importance', ascending= False).head(5)\n",
    "top_5_feat"
   ]
  },
  {
   "cell_type": "code",
   "execution_count": null,
   "metadata": {},
   "outputs": [],
   "source": [
    "grid_search_cv = \n",
    "\n",
    "params = {\n",
    "    'n_estimators':[2800, 3000, 3300],\n",
    "    'max_depth' : [6, 8, 10, 12], \n",
    "    'min_samples_leaf' : [8, 12, 18],\n",
    "    'min_samples_split' : [8, 16, 20]\n",
    "}\n"
   ]
  }
 ],
 "metadata": {
  "kernelspec": {
   "display_name": "base",
   "language": "python",
   "name": "python3"
  },
  "language_info": {
   "codemirror_mode": {
    "name": "ipython",
    "version": 3
   },
   "file_extension": ".py",
   "mimetype": "text/x-python",
   "name": "python",
   "nbconvert_exporter": "python",
   "pygments_lexer": "ipython3",
   "version": "3.11.5"
  }
 },
 "nbformat": 4,
 "nbformat_minor": 2
}
