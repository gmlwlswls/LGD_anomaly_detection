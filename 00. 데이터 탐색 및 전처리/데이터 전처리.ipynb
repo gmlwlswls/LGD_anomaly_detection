{
 "cells": [
  {
   "cell_type": "markdown",
   "metadata": {},
   "source": [
    "## 데이터 전처리"
   ]
  },
  {
   "cell_type": "code",
   "execution_count": 49,
   "metadata": {},
   "outputs": [],
   "source": [
    "# 1. 결측치 제거 및 대체\n",
    "# 2. 이상치 확인(피쳐 엔지니어링 후)\n",
    "# 3. 타겟 라벨링"
   ]
  },
  {
   "cell_type": "code",
   "execution_count": 40,
   "metadata": {},
   "outputs": [],
   "source": [
    "# L.RD, L.Vac, R.RD, R.Vac : 타겟\n",
    "# 그 외 : 피쳐 "
   ]
  },
  {
   "cell_type": "code",
   "execution_count": 55,
   "metadata": {},
   "outputs": [],
   "source": [
    "# 한글, 음수 시각화 설정\n",
    "\n",
    "#시각화 패키지\n",
    "import matplotlib.pyplot as plt\n",
    "\n",
    "#시각화에서 한글을 사용하기 위한 설정\n",
    "import platform\n",
    "from matplotlib import font_manager, rc\n",
    "\n",
    "if platform.system() == 'Darwin':\n",
    "    rc('font', family='AppleGothic')\n",
    "    \n",
    "#윈도우의 경우\n",
    "elif platform.system() == 'Windows':\n",
    "    font_name = font_manager.FontProperties(fname=\"c:/Windows/Fonts/malgun.ttf\").get_name()\n",
    "    rc('font', family=font_name)\n",
    "    \n",
    "#시각화에서 음수를 표현하기 위한 설정\n",
    "import matplotlib\n",
    "matplotlib.rcParams['axes.unicode_minus'] = False \n",
    "\n",
    "import warnings\n",
    "warnings.filterwarnings('ignore')"
   ]
  },
  {
   "cell_type": "code",
   "execution_count": 66,
   "metadata": {},
   "outputs": [],
   "source": [
    "import pandas as pd \n",
    "import numpy as np\n",
    "import seaborn as sns\n",
    "from sklearn.cluster import DBSCAN\n"
   ]
  },
  {
   "cell_type": "code",
   "execution_count": 41,
   "metadata": {},
   "outputs": [
    {
     "name": "stdout",
     "output_type": "stream",
     "text": [
      "<class 'pandas.core.frame.DataFrame'>\n",
      "RangeIndex: 8145 entries, 0 to 8144\n",
      "Columns: 841 entries, dat...date.name. to R.Vac\n",
      "dtypes: float64(834), int64(6), object(1)\n",
      "memory usage: 52.3+ MB\n",
      "\n",
      "<class 'pandas.core.frame.DataFrame'>\n",
      "DatetimeIndex: 8145 entries, 2016-01-01 07:00:00 to 2016-12-31 23:00:00\n",
      "Columns: 840 entries, LIFT.OUT.ROL.MTR.M1.SPD.1WSI40101 to R.Vac\n",
      "dtypes: float64(834), int64(6)\n",
      "memory usage: 52.3 MB\n"
     ]
    }
   ],
   "source": [
    "factory_df = pd.read_csv('../data/factory_glass_2016.csv', encoding= 'cp949')\n",
    "factory_df.info() # 8145 data, 841 columns\n",
    "len(factory_df.index)\n",
    "print()\n",
    "\n",
    "# 시계열 데이터 인덱스\n",
    "factory_df['dat...date.name.'] = pd.to_datetime(factory_df['dat...date.name.'])\n",
    "factory_df = factory_df.set_index('dat...date.name.', drop= True)\n",
    "factory_df.info() # 8145 data, 840 columns\n"
   ]
  },
  {
   "cell_type": "markdown",
   "metadata": {},
   "source": [
    "## 1.  결측치 제거"
   ]
  },
  {
   "cell_type": "markdown",
   "metadata": {},
   "source": [
    "- 결측행 제거 및 보간"
   ]
  },
  {
   "cell_type": "code",
   "execution_count": 42,
   "metadata": {},
   "outputs": [
    {
     "name": "stdout",
     "output_type": "stream",
     "text": [
      "<class 'pandas.core.frame.DataFrame'>\n",
      "DatetimeIndex: 8145 entries, 2016-01-01 07:00:00 to 2016-12-31 23:00:00\n",
      "Columns: 833 entries, LIFT.OUT.ROL.MTR.M1.SPD.1WSI40101 to R.Vac\n",
      "dtypes: float64(827), int64(6)\n",
      "memory usage: 51.8 MB\n",
      "\n",
      "Ribbon.Speed                       1\n",
      "LOWER.C1..Z165.TMP.1TIC42254.PV    1\n",
      "LOWER.C2..Z179.TMP.1TIC42354.PV    1\n",
      "LOWER.C3..Z193TMP.1TIC42454.PV     1\n",
      "LOWER.C4..Z207.TMP.1TIC42554.PV    1\n",
      "                                  ..\n",
      "S_C1_C2_L_R                        1\n",
      "S_C2_C3_L_L                        1\n",
      "S_C2_C3_L_R                        1\n",
      "S_C3_C4_L_L                        1\n",
      "S_C3_C4_L_R                        1\n",
      "Length: 127, dtype: int64\n"
     ]
    }
   ],
   "source": [
    "# 각 컬럼의 결측치 수 확인\n",
    "# 1) 결측치 열 삭제 \n",
    "missing_values_columns = factory_df.isnull().sum() \n",
    "missing_values_columns[missing_values_columns > 8000] # 7개의 열 - 결측치 8145 전부\n",
    "\n",
    "drop_df = factory_df.drop(missing_values_columns[missing_values_columns == 8145].index, axis= 1) \n",
    "drop_df.info() # column 840 > 833\n",
    "print() \n",
    "\n",
    "missing_values_columns = drop_df.isnull().sum()\n",
    "print(missing_values_columns[missing_values_columns > 0]) # 127개의 열열 결측치 존재"
   ]
  },
  {
   "cell_type": "code",
   "execution_count": 43,
   "metadata": {},
   "outputs": [
    {
     "name": "stdout",
     "output_type": "stream",
     "text": [
      "dat...date.name.\n",
      "2016-06-24 04:00:00     1\n",
      "2016-10-13 09:00:00    39\n",
      "2016-12-27 17:00:00    87\n",
      "dtype: int64\n",
      "\n",
      "<class 'pandas.core.frame.DataFrame'>\n",
      "DatetimeIndex: 8143 entries, 2016-01-01 07:00:00 to 2016-12-31 23:00:00\n",
      "Columns: 833 entries, LIFT.OUT.ROL.MTR.M1.SPD.1WSI40101 to R.Vac\n",
      "dtypes: float64(827), int64(6)\n",
      "memory usage: 51.8 MB\n",
      "\n",
      "\n",
      "Series([], dtype: int64)\n"
     ]
    }
   ],
   "source": [
    "# 각 인덱스의 결측치 수 확인\n",
    "# 2) 결측치 행 삭제 및 대체\n",
    "missing_values_rows = drop_df.isnull().sum(axis= 1)\n",
    "print(missing_values_rows[missing_values_rows > 0]) # 3754 index : 1, 6310 index : 39, 8044 index : 87 \n",
    "# -> 6310, 8044 index 삭제\n",
    "# -> 3754 index 보간법으로 대체\n",
    "print()\n",
    "\n",
    "# 행 삭제\n",
    "drop_df = drop_df.drop(missing_values_rows[missing_values_rows > 0].index[-2:], axis= 0)\n",
    "drop_df.info() \n",
    "print()\n",
    "\n",
    "# 행 대체 - 시계열 데이터의 경우 선형 보간법 혹은 시간 기반 보간법\n",
    "missing_col = drop_df.isnull().sum()\n",
    "missing_col[missing_col > 0] # ribbon.speed\n",
    "missing_col_name = missing_col[missing_col > 0].index[0]\n",
    "drop_df[missing_col_name] = drop_df[missing_col_name].interpolate(method= 'time')\n",
    "print()\n",
    "\n",
    "# 행 삭제, 보간 적용 확인\n",
    "missing_values_rows = drop_df.isnull().sum(axis= 1)\n",
    "print(missing_values_rows[missing_values_rows > 0]) # 없는 것 확인\n",
    "\n",
    "# 보간법 - imputer\n",
    "# from sklearn.impute import SimpleImputer\n",
    "# imputer = SimpleImputer(strategy = 'median')"
   ]
  },
  {
   "cell_type": "code",
   "execution_count": null,
   "metadata": {},
   "outputs": [],
   "source": [
    "drop_df.to_csv('../data/preprocessed_df.csv', index= True)"
   ]
  },
  {
   "cell_type": "markdown",
   "metadata": {},
   "source": [
    "## 2. 이상치 확인"
   ]
  },
  {
   "cell_type": "code",
   "execution_count": 44,
   "metadata": {},
   "outputs": [
    {
     "data": {
      "text/html": [
       "<div>\n",
       "<style scoped>\n",
       "    .dataframe tbody tr th:only-of-type {\n",
       "        vertical-align: middle;\n",
       "    }\n",
       "\n",
       "    .dataframe tbody tr th {\n",
       "        vertical-align: top;\n",
       "    }\n",
       "\n",
       "    .dataframe thead th {\n",
       "        text-align: right;\n",
       "    }\n",
       "</style>\n",
       "<table border=\"1\" class=\"dataframe\">\n",
       "  <thead>\n",
       "    <tr style=\"text-align: right;\">\n",
       "      <th></th>\n",
       "      <th>LIFT.OUT.ROL.MTR.M1.SPD.1WSI40101</th>\n",
       "      <th>LIFT.OUT.ROL.MTR.M2.SPD.1WSI40102</th>\n",
       "      <th>LIFT.OUT.ROL.MTR.M3.SPD.1WSI40103</th>\n",
       "      <th>LEHR.DRV.MTR..M4.1.SPD.1WSI40104</th>\n",
       "      <th>LEHR.DRV.MTR..M4.2.SPD.1WSI40105</th>\n",
       "      <th>LEHR.DRV.MTR..M5.1.SPD.1WSI40106</th>\n",
       "      <th>LEHR.DRV.MTR..M5.2.SPD.1WSI40107</th>\n",
       "      <th>LEHR.DRV.MTR..M6.1.SPD.1WSI40108</th>\n",
       "      <th>LEHR.DRV.MTR..M6.2.SPD.1WSI40109</th>\n",
       "      <th>LEHR.DRV.MTR..M7.1.SPD.1WSI40110</th>\n",
       "      <th>...</th>\n",
       "      <th>ROLLDOWN.폐기.RIGHT.</th>\n",
       "      <th>진공패드.폐기.RIGHT.</th>\n",
       "      <th>폐기율...</th>\n",
       "      <th>ROLLDOWN.진공패드.폐기율..LEFT.</th>\n",
       "      <th>ROLLDOWN.진공패드.폐기율..RIGHT.</th>\n",
       "      <th>ROLLDOWN.진공패드.폐기율..전체.</th>\n",
       "      <th>L.RD</th>\n",
       "      <th>L.Vac</th>\n",
       "      <th>R.RD</th>\n",
       "      <th>R.Vac</th>\n",
       "    </tr>\n",
       "  </thead>\n",
       "  <tbody>\n",
       "    <tr>\n",
       "      <th>count</th>\n",
       "      <td>8143.000000</td>\n",
       "      <td>8143.000000</td>\n",
       "      <td>8143.000000</td>\n",
       "      <td>8143.000000</td>\n",
       "      <td>8143.000000</td>\n",
       "      <td>8143.000000</td>\n",
       "      <td>8143.000000</td>\n",
       "      <td>8143.000000</td>\n",
       "      <td>8143.000000</td>\n",
       "      <td>8143.000000</td>\n",
       "      <td>...</td>\n",
       "      <td>8143.000000</td>\n",
       "      <td>8143.000000</td>\n",
       "      <td>8143.000000</td>\n",
       "      <td>8143.000000</td>\n",
       "      <td>8143.000000</td>\n",
       "      <td>8143.000000</td>\n",
       "      <td>8143.000000</td>\n",
       "      <td>8143.000000</td>\n",
       "      <td>8143.000000</td>\n",
       "      <td>8143.000000</td>\n",
       "    </tr>\n",
       "    <tr>\n",
       "      <th>mean</th>\n",
       "      <td>0.000936</td>\n",
       "      <td>0.000890</td>\n",
       "      <td>0.000907</td>\n",
       "      <td>0.000807</td>\n",
       "      <td>0.000948</td>\n",
       "      <td>0.000795</td>\n",
       "      <td>0.000948</td>\n",
       "      <td>0.000773</td>\n",
       "      <td>0.000949</td>\n",
       "      <td>0.000773</td>\n",
       "      <td>...</td>\n",
       "      <td>2.216505</td>\n",
       "      <td>0.786197</td>\n",
       "      <td>3.572821</td>\n",
       "      <td>3.719458</td>\n",
       "      <td>3.354256</td>\n",
       "      <td>3.572821</td>\n",
       "      <td>0.018044</td>\n",
       "      <td>0.019171</td>\n",
       "      <td>0.024838</td>\n",
       "      <td>0.008720</td>\n",
       "    </tr>\n",
       "    <tr>\n",
       "      <th>std</th>\n",
       "      <td>1.000156</td>\n",
       "      <td>1.000194</td>\n",
       "      <td>1.000180</td>\n",
       "      <td>1.000257</td>\n",
       "      <td>1.000145</td>\n",
       "      <td>1.000266</td>\n",
       "      <td>1.000145</td>\n",
       "      <td>1.000282</td>\n",
       "      <td>1.000145</td>\n",
       "      <td>1.000282</td>\n",
       "      <td>...</td>\n",
       "      <td>3.734319</td>\n",
       "      <td>1.384937</td>\n",
       "      <td>4.741084</td>\n",
       "      <td>6.002389</td>\n",
       "      <td>5.468244</td>\n",
       "      <td>4.741084</td>\n",
       "      <td>0.045043</td>\n",
       "      <td>0.031836</td>\n",
       "      <td>0.047642</td>\n",
       "      <td>0.015835</td>\n",
       "    </tr>\n",
       "    <tr>\n",
       "      <th>min</th>\n",
       "      <td>-1.772682</td>\n",
       "      <td>-1.713219</td>\n",
       "      <td>-1.734851</td>\n",
       "      <td>-2.736126</td>\n",
       "      <td>-1.636293</td>\n",
       "      <td>-2.716038</td>\n",
       "      <td>-1.636293</td>\n",
       "      <td>-2.679576</td>\n",
       "      <td>-1.824581</td>\n",
       "      <td>-2.679576</td>\n",
       "      <td>...</td>\n",
       "      <td>0.000000</td>\n",
       "      <td>0.000000</td>\n",
       "      <td>0.000000</td>\n",
       "      <td>0.000000</td>\n",
       "      <td>0.000000</td>\n",
       "      <td>0.000000</td>\n",
       "      <td>0.000000</td>\n",
       "      <td>0.000000</td>\n",
       "      <td>0.000000</td>\n",
       "      <td>0.000000</td>\n",
       "    </tr>\n",
       "    <tr>\n",
       "      <th>25%</th>\n",
       "      <td>-0.846817</td>\n",
       "      <td>-0.804910</td>\n",
       "      <td>-0.820307</td>\n",
       "      <td>-0.730496</td>\n",
       "      <td>-0.857942</td>\n",
       "      <td>-0.719593</td>\n",
       "      <td>-0.857942</td>\n",
       "      <td>-0.699527</td>\n",
       "      <td>-0.858236</td>\n",
       "      <td>-0.699527</td>\n",
       "      <td>...</td>\n",
       "      <td>0.000000</td>\n",
       "      <td>0.000000</td>\n",
       "      <td>0.980000</td>\n",
       "      <td>0.930000</td>\n",
       "      <td>0.000000</td>\n",
       "      <td>0.980000</td>\n",
       "      <td>0.000000</td>\n",
       "      <td>0.000000</td>\n",
       "      <td>0.000000</td>\n",
       "      <td>0.000000</td>\n",
       "    </tr>\n",
       "    <tr>\n",
       "      <th>50%</th>\n",
       "      <td>-0.383884</td>\n",
       "      <td>-0.350755</td>\n",
       "      <td>-0.363035</td>\n",
       "      <td>-0.587236</td>\n",
       "      <td>-0.390932</td>\n",
       "      <td>-0.576990</td>\n",
       "      <td>-0.390932</td>\n",
       "      <td>-0.699527</td>\n",
       "      <td>-0.375063</td>\n",
       "      <td>-0.699527</td>\n",
       "      <td>...</td>\n",
       "      <td>1.000000</td>\n",
       "      <td>0.000000</td>\n",
       "      <td>2.170000</td>\n",
       "      <td>1.980000</td>\n",
       "      <td>1.740000</td>\n",
       "      <td>2.170000</td>\n",
       "      <td>0.009000</td>\n",
       "      <td>0.010000</td>\n",
       "      <td>0.010000</td>\n",
       "      <td>0.000000</td>\n",
       "    </tr>\n",
       "    <tr>\n",
       "      <th>75%</th>\n",
       "      <td>1.004913</td>\n",
       "      <td>1.011709</td>\n",
       "      <td>1.008781</td>\n",
       "      <td>0.988616</td>\n",
       "      <td>1.010099</td>\n",
       "      <td>0.991645</td>\n",
       "      <td>1.010099</td>\n",
       "      <td>0.997658</td>\n",
       "      <td>1.074454</td>\n",
       "      <td>0.997658</td>\n",
       "      <td>...</td>\n",
       "      <td>3.000000</td>\n",
       "      <td>1.000000</td>\n",
       "      <td>4.425000</td>\n",
       "      <td>4.300000</td>\n",
       "      <td>4.250000</td>\n",
       "      <td>4.425000</td>\n",
       "      <td>0.020000</td>\n",
       "      <td>0.022000</td>\n",
       "      <td>0.029000</td>\n",
       "      <td>0.011000</td>\n",
       "    </tr>\n",
       "    <tr>\n",
       "      <th>max</th>\n",
       "      <td>2.548022</td>\n",
       "      <td>2.525557</td>\n",
       "      <td>2.533021</td>\n",
       "      <td>2.421208</td>\n",
       "      <td>2.411130</td>\n",
       "      <td>2.417677</td>\n",
       "      <td>2.411130</td>\n",
       "      <td>2.270547</td>\n",
       "      <td>2.523972</td>\n",
       "      <td>2.270547</td>\n",
       "      <td>...</td>\n",
       "      <td>55.000000</td>\n",
       "      <td>18.000000</td>\n",
       "      <td>53.330000</td>\n",
       "      <td>88.640000</td>\n",
       "      <td>70.270000</td>\n",
       "      <td>53.330000</td>\n",
       "      <td>0.841000</td>\n",
       "      <td>0.400000</td>\n",
       "      <td>0.676000</td>\n",
       "      <td>0.173000</td>\n",
       "    </tr>\n",
       "  </tbody>\n",
       "</table>\n",
       "<p>8 rows × 833 columns</p>\n",
       "</div>"
      ],
      "text/plain": [
       "       LIFT.OUT.ROL.MTR.M1.SPD.1WSI40101  LIFT.OUT.ROL.MTR.M2.SPD.1WSI40102  \\\n",
       "count                        8143.000000                        8143.000000   \n",
       "mean                            0.000936                           0.000890   \n",
       "std                             1.000156                           1.000194   \n",
       "min                            -1.772682                          -1.713219   \n",
       "25%                            -0.846817                          -0.804910   \n",
       "50%                            -0.383884                          -0.350755   \n",
       "75%                             1.004913                           1.011709   \n",
       "max                             2.548022                           2.525557   \n",
       "\n",
       "       LIFT.OUT.ROL.MTR.M3.SPD.1WSI40103  LEHR.DRV.MTR..M4.1.SPD.1WSI40104  \\\n",
       "count                        8143.000000                       8143.000000   \n",
       "mean                            0.000907                          0.000807   \n",
       "std                             1.000180                          1.000257   \n",
       "min                            -1.734851                         -2.736126   \n",
       "25%                            -0.820307                         -0.730496   \n",
       "50%                            -0.363035                         -0.587236   \n",
       "75%                             1.008781                          0.988616   \n",
       "max                             2.533021                          2.421208   \n",
       "\n",
       "       LEHR.DRV.MTR..M4.2.SPD.1WSI40105  LEHR.DRV.MTR..M5.1.SPD.1WSI40106  \\\n",
       "count                       8143.000000                       8143.000000   \n",
       "mean                           0.000948                          0.000795   \n",
       "std                            1.000145                          1.000266   \n",
       "min                           -1.636293                         -2.716038   \n",
       "25%                           -0.857942                         -0.719593   \n",
       "50%                           -0.390932                         -0.576990   \n",
       "75%                            1.010099                          0.991645   \n",
       "max                            2.411130                          2.417677   \n",
       "\n",
       "       LEHR.DRV.MTR..M5.2.SPD.1WSI40107  LEHR.DRV.MTR..M6.1.SPD.1WSI40108  \\\n",
       "count                       8143.000000                       8143.000000   \n",
       "mean                           0.000948                          0.000773   \n",
       "std                            1.000145                          1.000282   \n",
       "min                           -1.636293                         -2.679576   \n",
       "25%                           -0.857942                         -0.699527   \n",
       "50%                           -0.390932                         -0.699527   \n",
       "75%                            1.010099                          0.997658   \n",
       "max                            2.411130                          2.270547   \n",
       "\n",
       "       LEHR.DRV.MTR..M6.2.SPD.1WSI40109  LEHR.DRV.MTR..M7.1.SPD.1WSI40110  \\\n",
       "count                       8143.000000                       8143.000000   \n",
       "mean                           0.000949                          0.000773   \n",
       "std                            1.000145                          1.000282   \n",
       "min                           -1.824581                         -2.679576   \n",
       "25%                           -0.858236                         -0.699527   \n",
       "50%                           -0.375063                         -0.699527   \n",
       "75%                            1.074454                          0.997658   \n",
       "max                            2.523972                          2.270547   \n",
       "\n",
       "       ...  ROLLDOWN.폐기.RIGHT.  진공패드.폐기.RIGHT.       폐기율...  \\\n",
       "count  ...         8143.000000     8143.000000  8143.000000   \n",
       "mean   ...            2.216505        0.786197     3.572821   \n",
       "std    ...            3.734319        1.384937     4.741084   \n",
       "min    ...            0.000000        0.000000     0.000000   \n",
       "25%    ...            0.000000        0.000000     0.980000   \n",
       "50%    ...            1.000000        0.000000     2.170000   \n",
       "75%    ...            3.000000        1.000000     4.425000   \n",
       "max    ...           55.000000       18.000000    53.330000   \n",
       "\n",
       "       ROLLDOWN.진공패드.폐기율..LEFT.  ROLLDOWN.진공패드.폐기율..RIGHT.  \\\n",
       "count               8143.000000                8143.000000   \n",
       "mean                   3.719458                   3.354256   \n",
       "std                    6.002389                   5.468244   \n",
       "min                    0.000000                   0.000000   \n",
       "25%                    0.930000                   0.000000   \n",
       "50%                    1.980000                   1.740000   \n",
       "75%                    4.300000                   4.250000   \n",
       "max                   88.640000                  70.270000   \n",
       "\n",
       "       ROLLDOWN.진공패드.폐기율..전체.         L.RD        L.Vac         R.RD  \\\n",
       "count             8143.000000  8143.000000  8143.000000  8143.000000   \n",
       "mean                 3.572821     0.018044     0.019171     0.024838   \n",
       "std                  4.741084     0.045043     0.031836     0.047642   \n",
       "min                  0.000000     0.000000     0.000000     0.000000   \n",
       "25%                  0.980000     0.000000     0.000000     0.000000   \n",
       "50%                  2.170000     0.009000     0.010000     0.010000   \n",
       "75%                  4.425000     0.020000     0.022000     0.029000   \n",
       "max                 53.330000     0.841000     0.400000     0.676000   \n",
       "\n",
       "             R.Vac  \n",
       "count  8143.000000  \n",
       "mean      0.008720  \n",
       "std       0.015835  \n",
       "min       0.000000  \n",
       "25%       0.000000  \n",
       "50%       0.000000  \n",
       "75%       0.011000  \n",
       "max       0.173000  \n",
       "\n",
       "[8 rows x 833 columns]"
      ]
     },
     "execution_count": 44,
     "metadata": {},
     "output_type": "execute_result"
    }
   ],
   "source": [
    "# IQR로 확인\n",
    "drop_df.describe()"
   ]
  },
  {
   "cell_type": "code",
   "execution_count": 45,
   "metadata": {},
   "outputs": [],
   "source": [
    "def detect_outliers(df) :\n",
    "  \n",
    "  outlier_indices = {}\n",
    "  \n",
    "  for col in factory_df.select_dtypes(include= np.number).columns :\n",
    "    q1 = factory_df[col].quantile(0.25)\n",
    "    q3 = factory_df[col].quantile(0.75)\n",
    "    IQR = q3 - q1\n",
    "    \n",
    "    lower_bound = q1 - 1.5 * IQR\n",
    "    upper_bound = q3 + 1.5 * IQR\n",
    "    \n",
    "    outlier_indices[col] = factory_df[(factory_df[col] < lower_bound) | (factory_df[col] > upper_bound)].index.tolist()\n",
    "    \n",
    "  return outlier_indices\n",
    "  \n",
    "outliers = detect_outliers(drop_df)\n"
   ]
  },
  {
   "cell_type": "code",
   "execution_count": 46,
   "metadata": {},
   "outputs": [
    {
     "name": "stdout",
     "output_type": "stream",
     "text": [
      "['X1WOS45101_PV', 'X1WOS45102_PV', 'X1WOS45103_PV', 'X1WOS45104_PV', 'X1WOS45105_PV', 'X1WOS45106_PV', 'X1WOS45107_PV', 'X1WOS45108_PV', 'X1WOS45109_PV', 'X1WOS45110_PV', 'DCS_Offset_RPM_M11.1WOS45111_PV', 'DCS_Offset_RPM_M12.1WOS45112_PV', 'DCS_Offset_RPM_M15.1WOS45115_PV', 'DCS_Offset_RPM_M16.1WOS45116_PV', 'DCS_Offset_RPM_M17.1WOS45117_PV', 'DCS_Offset_RPM_M18.1WOS45118_PV', 'DCS_Offset_RPM_M19.1WOS45119_PV', 'N2.TO.EA1313A.1FI33503A_PV', 'ROOF.HEATING.Zone.1.1JIC31101.PV', 'ROOF.HEATING.Zone.2.1JIC31102.PV', 'ROOF.HEATING.Zone.3.1JIC31103.PV', 'ROOF.HEATING.Zone.4.1JIC31104.PV', 'ROOF.HEATING.Zone.7.1JIC31107.PV', 'ROOF.HEATING.Zone.8.1JIC31108.PV', 'ROOF.HEATING.Zone.9.1JIC31109.PV', 'ATM.FLOW.SECT.6.N2.H2.1FI33410.PV', 'ATM.FLOW.SECT.7.N2.H2.1FI33412.PV', 'ATM.FLOW.SECT.8.N2.H2.1FI33414.PV', 'ATM.FLOW.SECT.9.N2.1FIC33415.PV', 'ATM.FLOW.SECT.9.N2.H2.1FIC33416.PV', 'ATM.FLOW.SECT.10.N2.H2.1FIC33418.PV', 'SEC11.N2.1FIC33425.PV', 'SEC11.N2.H2.9..1FIC33426.PV', 'Ribbon.Speed', 'Gross.width', 'Left.edge', 'Right.edge', 'UPPER.AB1.Z1.TMP.1TIC41101.PV', 'UPPER.AB1.Z2.TMP.1TIC41102.PV', 'UPPER.AB1.Z3.TMP.1TIC41103.PV', 'UPPER.AB1.Z4.TMP.1TIC41104.PV', 'UPPER.AB1.Z5.TMP.1TIC41105.PV', 'UPPER.AB1.Z6.TMP.1TIC41106.PV', 'UPPER.AB1.Z7.TMP.1TIC41107.PV', 'LOWER.AB1.Z8.TMP.1TIC41151.PV', 'LOWER.AB1.Z9.TMP.1TIC41152.PV', 'LOWER.AB1.Z11.TMP.1TIC41154.PV', 'LOWER.AB1.Z13.TMP.1TIC41156.PV', 'LOWER.AB1.Z14.TMP.1TIC41157.PV', 'UPPER.AB2.Z15.TMP.1TIC41201.PV', 'UPPER.AB2.Z16.TMP.1TIC41202.PV', 'UPPER.AB2.Z17.TMP.1TIC41203.PV', 'UPPER.AB2.Z18.TMP.1TIC41204.PV', 'UPPER.AB2.Z19.TMP.1TIC41205.PV', 'UPPER.AB2.Z20.TMP.1TIC41206.PV', 'UPPER.AB2.Z21.TMP.1TIC41207.PV', 'LOWER.AB2.Z22.TMP.1TIC41251.PV', 'LOWER.AB2.Z23.TMP.1TIC41252.PV', 'LOWER.AB2.Z25.TMP.1TIC41254.PV', 'LOWER.AB2.Z27.TMP.1TIC41256.PV', 'LOWER.AB2.Z28.TMP.1TIC41257.PV', 'UPPER.AB3.Z29.TMP.1TIC41301.PV', 'UPPER.AB3.Z30.TMP.1TIC41302.PV', 'UPPER.AB3.Z31.TMP.1TIC41303.PV', 'UPPER.AB3.Z32.TMP.1TIC41304.PV', 'UPPER.AB3.Z33.TMP.1TIC41305.PV', 'UPPER.AB3.Z34.TMP.1TIC41306.PV', 'UPPER.AB3.Z35.TMP.1TIC41307.PV', 'LOWER.AB3.Z36.TMP.1TIC41351.PV', 'LOWER.AB3.Z37.TMP.1TIC41352.PV', 'LOWER.AB3.Z39.TMP.1TIC41354.PV', 'LOWER.AB3.Z41.TMP.1TIC41356.PV', 'LOWER.AB3.Z42.TMP.1TIC41357.PV', 'UPPER.AB4.Z43.TMP.1TIC41401.PV', 'UPPER.AB4.Z44.TMP.1TIC41402.PV', 'UPPER.AB4.Z45TMP.1TIC41403.PV', 'UPPER.AB4.Z46.TMP.1TIC41404.PV', 'UPPER.AB4.Z47.TMP.1TIC41405.PV', 'UPPER.AB4.Z48.TMP.1TIC41406.PV', 'UPPER.AB4.Z49.TMP.1TIC41407.PV', 'LOWER.AB4.Z50.TMP.1TIC41451.PV', 'LOWER.AB4.Z51.TMP.1TIC41452.PV', 'LOWER.AB4.Z53.TMP.1TIC41454.PV', 'LOWER.AB4.Z55TMP.1TIC41456.PV', 'LOWER.AB4.Z56.TMP.1TIC41457.PV', 'UPPER.AB5.Z57.TMP.1TIC41501.PV', 'UPPER.AB5.Z58.TMP.1TIC41502.PV', 'UPPER.AB5.Z59TMP.1TIC41503.PV', 'UPPER.AB5.Z60.TMP.1TIC41504.PV', 'UPPER.AB5.Z61.TMP.1TIC41505.PV', 'UPPER.AB5.Z62.TMP.1TIC41506.PV', 'UPPER.AB5.Z63.TMP.1TIC41507.PV', 'LOWER.AB5.Z64.TMP.1TIC41551.PV', 'LOWER.AB5.Z65.TMP.1TIC41552.PV', 'LOWER.AB5.Z67.TMP.1TIC41554.PV', 'LOWER.AB5.Z69.TMP.1TIC41556.PV', 'LOWER.AB5.Z70.TMP.1TIC41557.PV', 'UPPER.AB6.Z71.TMP.1TIC41601.PV', 'UPPER.AB6.Z72.TMP.1TIC41602.PV', 'UPPER.AB6.Z73TMP.1TIC41603.PV', 'UPPER.AB6.Z74.TMP.1TIC41604.PV', 'UPPER.AB6.Z75.TMP.1TIC41605.PV', 'UPPER.AB6.Z76.TMP.1TIC41606.PV', 'UPPER.AB6.Z77.TMP.1TIC41607.PV', 'LOWER.AB6.Z78.TMP.1TIC41651.PV', 'LOWER.AB6.Z79.TMP.1TIC41652.PV', 'LOWER.AB6.Z81.TMP.1TIC41654.PV', 'LOWER.AB6.Z83.TMP.1TIC41656.PV', 'LOWER.AB6.Z84.TMP.1TIC41657.PV', 'UPPER.AB7.Z85.TMP.1TIC41701.PV', 'UPPER.AB7.Z86.TMP.1TIC41702.PV', 'UPPER.AB7.Z87TMP.1TIC41703.PV', 'UPPER.AB7.Z88.TMP.1TIC41704.PV', 'UPPER.AB7.Z89.TMP.1TIC41705.PV', 'UPPER.AB7.Z90.TMP.1TIC41706.PV', 'UPPER.AB7.Z91.TMP.1TIC41707.PV', 'LOWER.AB7.Z92.TMP.1TIC41751.PV', 'LOWER.AB7.Z93.TMP.1TIC41752.PV', 'LOWER.AB7.Z95.TMP.1TIC41754.PV', 'LOWER.AB7.Z97.TMP.1TIC41756.PV', 'LOWER.AB7.Z98.TMP.1TIC41757.PV', 'UPPER.AB8.Z99.TMP.1TIC41801.PV', 'UPPER.AB8.Z100.TMP.1TIC41802.PV', 'UPPER.AB8.Z101TMP.1TIC41803.PV', 'UPPER.AB8.Z102.TMP.1TIC41804.PV', 'UPPER.AB8.Z103.TMP.1TIC41805.PV', 'UPPER.AB8.Z104.TMP.1TIC41806.PV', 'UPPER.AB8.Z105.TMP.1TIC41807.PV', 'LOWER.AB8.Z106.TMP.1TIC41851.PV', 'LOWER.AB8.Z107.TMP.1TIC41852.PV', 'LOWER.AB8.Z109.TMP.1TIC41854.PV', 'LOWER.AB8.Z111.TMP.1TIC41856.PV', 'LOWER.AB8.Z112.TMP.1TIC41857.PV', 'UPPER.AB9.Z113.TMP.1TIC41901.PV', 'UPPER.AB9.Z114.TMP.1TIC41902.PV', 'UPPER.AB9.Z115TMP.1TIC41903.PV', 'UPPER.AB9.Z116.TMP.1TIC41904.PV', 'UPPER.AB9.Z117.TMP.1TIC41905.PV', 'UPPER.AB9.Z118.TMP.1TIC41906.PV', 'UPPER.AB9.Z119.TMP.1TIC41907.PV', 'LOWER.AB9.Z120.TMP.1TIC41951.PV', 'LOWER.AB9.Z121.TMP.1TIC41952.PV', 'LOWER.AB9.Z123.TMP.1TIC41954.PV', 'LOWER.AB9.Z125.TMP.1TIC41956.PV', 'LOWER.AB9.Z126.TMP.1TIC41957.PV', 'UPPER.AB10.Z127.TMP.1TIC42001.PV', 'UPPER.AB10.Z128.TMP.1TIC42002.PV', 'UPPER.AB10.Z129TMP.1TIC42003.PV', 'UPPER.AB10.Z130.TMP.1TIC42004.PV', 'UPPER.AB10.Z131.TMP.1TIC42005.PV', 'UPPER.AB10.Z132.TMP.1TIC42006.PV', 'UPPER.AB10.Z133.TMP.1TIC42007.PV', 'LOWER.AB10.Z134.TMP.1TIC42051.PV', 'LOWER.AB10.Z135.TMP.1TIC42052.PV', 'LOWER.AB10.Z137.TMP.1TIC42054.PV', 'LOWER.AB10.Z139.TMP.1TIC42056.PV', 'LOWER.AB10.Z140.TMP.1TIC42057.PV', 'UPPER.AB11.Z141.TMP.1TIC42101.PV', 'UPPER.AB11.Z142.TMP.1TIC42102.PV', 'UPPER.AB11.Z143.TMP.1TIC42103.PV', 'UPPER.AB11.Z144.TMP.1TIC42104.PV', 'UPPER.AB11.Z145.TMP.1TIC42105.PV', 'UPPER.AB11.Z146.TMP.1TIC42106.PV', 'UPPER.AB11.Z147.TMP.1TIC42107.PV', 'LOWER.AB11.Z148.TMP.1TIC42151.PV', 'LOWER.AB11.Z149.TMP.1TIC42152.PV', 'LOWER.AB11.Z151.TMP.1TIC42154.PV', 'LOWER.AB11.Z153.TMP.1TIC42156.PV', 'LOWER.AB11.Z154.TMP.1TIC42157.PV', 'UPPER.C1..Z155.TMP.1TIC42201.PV', 'UPPER.C1..Z156.TMP.1TIC42202.PV', 'UPPER.C1..Z157.TMP.1TIC42203.PV', 'UPPER.C1..Z158.TMP.1TIC42204.PV', 'UPPER.C1..Z159.TMP.1TIC42205.PV', 'UPPER.C1..Z160.TMP.1TIC42206.PV', 'UPPER.C1..Z161.TMP.1TIC42207.PV', 'LOWER.C1..Z162.TMP.1TIC42251.PV', 'LOWER.C1..Z165.TMP.1TIC42254.PV', 'LOWER.C1..Z168.TMP.1TIC42257.PV', 'UPPER.C2..Z169.TMP.1TIC42301.PV', 'UPPER.C2..Z170.TMP.1TIC42302.PV', 'UPPER.C2..Z171.TMP.1TIC42303.PV', 'UPPER.C2..Z172.TMP.1TIC42304.PV', 'UPPER.C2..Z173.TMP.1TIC42305.PV', 'UPPER.C2..Z174.TMP.1TIC42306.PV', 'UPPER.C2..Z175.TMP.1TIC42307.PV', 'LOWER.C2..Z176.TMP.1TIC42351.PV', 'LOWER.C2..Z179.TMP.1TIC42354.PV', 'LOWER.C2..Z182.TMP.1TIC42357.PV', 'UPPER.C3..Z183.TMP.1TIC42401.PV', 'UPPER.C3..Z184.TMP.1TIC42402.PV', 'UPPER.C3..Z185.TMP.1TIC42403.PV', 'UPPER.C3..Z186.TMP.1TIC42404.PV', 'UPPER.C3..Z187.TMP.1TIC42405.PV', 'UPPER.C3..Z188.TMP.1TIC42406.PV', 'UPPER.C3..Z189.TMP.1TIC42407.PV', 'LOWER.C3..Z190.TMP.1TIC42451.PV', 'LOWER.C3..Z196.TMP.1TIC42457.PV', 'UPPER.C4..Z197.TMP.1TIC42501.PV', 'UPPER.C4..Z198.TMP.1TIC42502.PV', 'UPPER.C4..Z199.TMP.1TIC42503.PV', 'UPPER.C4..Z200.TMP.1TIC42504.PV', 'UPPER.C4..Z201.TMP.1TIC42505.PV', 'UPPER.C4..Z202.TMP.1TIC42506.PV', 'UPPER.C4..Z203.TMP.1TIC42507.PV', 'LOWER.C4..Z204.TMP.1TIC42551.PV', 'LOWER.C4..Z207.TMP.1TIC42554.PV', 'LOWER.C4..Z210.TMP.1TIC42557.PV', 'LEHR.DRV.MTR..M7.1.SPD.1WSI40110.1', 'LIFT.OUT.ROL.MTR.M1.CUR.1WII40101.PV', 'LIFT.OUT.ROL.MTR.M2.CUR.1WII40102.PV', 'LIFT.OUT.ROL.MTR.M3.CUR.1WII40103.PV', 'LEHR.DRV.MTR..M4.1.CUR.1WII40104.PV', 'LEHR.DRV.MTR..M5.1.CUR.1WII40106.PV', 'LEHR.DRV.MTR..M5.2.CUR.1WII40107.PV', 'LEHR.DRV.MTR..M6.1.CUR.1WII40108.PV', 'LEHR.DRV.MTR..M6.2.CUR.1WII40109.PV', 'LEHR.DRV.MTR..M7.1.CUR.1WII40110.PV', 'LEHR.DRV.MTR..M7.2.CUR.1WII40111.PV', 'LEHR.DRV.MTR..M8.1.CUR.1WII40112.PV', 'LEHR.DRV.MTR..M8.2.CUR.1WII40113.PV', 'LEHR.DRV.MTR..M10.2.CUR.1WII40117.PV', 'LEHR.DRV.MTR..M11.1.CUR.1WII40118.PV', 'LEHR.DRV.MTR..M11.2.CUR.1WII40119.PV', 'LEHR.DRV.MTR..M12.1.CUR.1WII40120.PV', 'LEHR.DRV.MTR..M12.2.CUR.1WII40121.PV', 'LEHR.DRV.MTR..M13.1.CUR.1WII40122.PV', 'LEHR.DRV.MTR..M13.2.CUR.1WII40123.PV', 'LEHR.DRV.MTR..M14.2.CUR.1WII40125.PV', 'LEHR.DRV.MTR..M15.2.CUR.1WII40127.PV', 'LEHR.DRV.MTR..M16.1.CUR.1WII40128.PV', 'LEHR.DRV.MTR..M16.2.CUR.1WII40129.PV', 'LEHR.DRV.MTR..M17.1.CUR.1WII40130.PV', 'LEHR.DRV.MTR..M18.1.CUR.1WII40132.PV', 'LEHR.DRV.MTR..M18.2.CUR.1WII40133.PV', 'X1WOS45101_PV.1', 'X1WOS45102_PV.1', 'X1WOS45103_PV.1', 'X1WOS45104_PV.1', 'X1WOS45105_PV.1', 'X1WOS45106_PV.1', 'X1WOS45107_PV.1', 'X1WOS45108_PV.1', 'X1WOS45109_PV.1', 'X1WOS45110_PV.1', 'DCS_Offset_RPM_M11.1WOS45111_PV.1', 'DCS_Offset_RPM_M12.1WOS45112_PV.1', 'DCS_Offset_RPM_M13.1WOS45113_PV.1', 'DCS_Offset_RPM_M14.1WOS45114_PV.1', 'DCS_Offset_RPM_M15.1WOS45115_PV.1', 'DCS_Offset_RPM_M16.1WOS45116_PV.1', 'DCS_Offset_RPM_M17.1WOS45117_PV.1', 'DCS_Offset_RPM_M18.1WOS45118_PV.1', 'DCS_Offset_RPM_M19.1WOS45119_PV.1', 'TMP.GLASS..BAY.1.1TI30101.PV', 'TMP.GLASS..BAY.2.1TI30102.PV', 'TMP.GLASS..BAY.4.1TI30104.PV', 'TMP.GLASS..BAY.5.1TI30105.PV', 'TMP.GLASS..BAY.6.1TI30106.PV', 'TMP.GLASS..BAY.7.1TI30107.PV', 'TMP.GLASS..BAY.8.1TI30108.PV', 'TMP.TIN..BAY.1.LEFT.1TI30201.PV', 'TMP.TIN..BAY.5.LEFT.1TI30205.PV', 'TMP.TIN..BAY.5.RIGHT.1TI30206.PV', 'TMP.TIN..BAY.7.LEFT.1TI30207.PV', 'TMP.TIN..BAY.7.RIGHT.1TI30208.PV', 'TMP.TIN..BAY.10.LEFT.1TI30209.PV', 'TMP.TIN..BAY.10.RIGHT.1TI30210.PV', 'TMP.GLASS..ZONE.AB1.GB.1TI40200.PV', 'TMP.GLASS..ZONE.AB1.E1.1TI40201.PV', 'TMP.GLASS..ZONE.AB1.E2.1TI40202.PV', 'TMP.GLASS..ZONE.AB1.E3.1TI40203.PV', 'TMP.GLASS..ZONE.AB1.E4.1TI40204.PV', 'TMP.GLASS..ZONE.AB1.E5.1TI40205.PV', 'TMP.GLASS..ZONE.AB7.L1.1TI40211.PV', 'TMP.GLASS..ZONE.AB7.L2.1TI40212.PV', 'TMP.GLASS..ZONE.AB7.L3.1TI40213.PV', 'TMP.GLASS..ZONE.AB7.L4.1TI40214.PV', 'TMP.GLASS..ZONE.AB7.L5.1TI40215.PV', 'TMP.GLASS..ZONE.AB11.L1.1TI40221.PV', 'TMP.GLASS..ZONE.AB11.L2.1TI40222.PV', 'TMP.GLASS..ZONE.AB11.L3.1TI40223.PV', 'TMP.GLASS..ZONE.AB11.L4.1TI40224.PV', 'TMP.GLASS..ZONE.AB11.L5.1TI40225.PV', 'TMP.GLASS..ZONE.C4.E1.1TI40231.PV', 'TMP.GLASS..ZONE.C4.E2.1TI40232.PV', 'TMP.GLASS..ZONE.C4.E3.1TI40233.PV', 'TMP.GLASS..ZONE.C4.E4.1TI40234.PV', 'TMP.GLASS..ZONE.C4.E5.1TI40235.PV', 'TMP.GLASS..Z_RET.E1.1TI40241.PV', 'TMP.GLASS..Z_RET.E2.1TI40242.PV', 'TMP.GLASS..Z_RET.E3.1TI40243.PV', 'TMP.GLASS..Z_RET.E4.1TI40244.PV', 'TMP.GLASS..Z_RET.E5.1TI40245.PV', 'TMP.GLASS..ZONE.F.E1.1TI40251.PV', 'TMP.GLASS..ZONE.F.E2.1TI40252.PV', 'TMP.GLASS..ZONE.F.E3.1TI40253.PV', 'TMP.GLASS..ZONE.F.E4.1TI40254.PV', 'TMP.GLASS..ZONE.F.E5.1TI40255.PV', 'X.10.BAY.RIGHT.PRESSURE.1CLBAY10RIGHT_CPV', 'X.1.BAY.LEFT.PRESSURE.1CLBAY1LEFT_CPV', 'X.1.BAY.RIGHT.PRESSURE.1CLBAY1RIGHT_CPV', 'X.7.BAY.LEFT.PRESSURE.1CLBAY7LEFT_CPV', 'X.7.BAY.RIGHT.PRESSURE.1CLBAY7RIGHT_CPV', 'X.1.LEHR.SO2.ANALYZER.1AI44110.PV', 'X.1.LEHR.O2.ANALYZER.1AI44111.PV', 'X.2.LEHR.O2.ANALYZER.1AI44113.PV', 'BATH.AMBIENT.3.BAY.RIGHT.1TI31002_PV', 'CASHING.HOT.AIR.TMP.1TIC33604.PV', 'N2.TO.EA1313B.1FI33527A_PV', 'N2.TO.EA1315B.1FI33528A_PV', 'DB.N2.SCREEN.FLOW.LEFT.1FI49011_PV.1', 'DB.N2.SCREEN.FLOW.RIGHT.1FI49012_PV.1', 'E.L.DB.LEFT..N2.FLOW.1FI33501.PV', 'E.L.DB.RIGHT.N2.FLOW.1FI33502.PV', 'N2.TO.EA1313A.1FI33503A_PV.1', 'N2.TO.EA1315A.1FI33504A_PV', 'N2.TO.HOOD.DOWN.STREAM.1FI33505A_PV', 'N2.TO.HOOD.UP.STREAM.1FI33506A_PV', 'TMP.GLASS..LEFT.EXIT.1TIC30109.PV', 'TMP.GLASS..CENTER.EXIT.1TIC30110.PV', 'TMP.GLASS..RIGHT.EXIT.1TIC30111.PV', 'DROSS.BOX.PRESS.1PI40301.PV', 'DB.HEAT.TOP.1.1.TMP.1TI40301.PV', 'DB.HEAT.TOP.2.1.TMP.1TI40302.PV', 'DB.HEAT.TOP.3.1.TMP.1TI40303.PV', 'DB.HEAT.TOP.4.1.TMP.1TI40304.PV', 'DB.HEAT.TOP.5.1.TMP.1TI40305.PV', 'DB.HEAT.TOP.6.1.TMP.1TI40306.PV', 'DB.HEAT.TOP.7.1.TMP.1TI40307.PV', 'DB.HEAT.TOP.1.2.TMP.1TI40308.PV', 'DB.HEAT.TOP.2.2.TMP.1TI40309.PV', 'DB.HEAT.TOP.3.2.TMP.1TI40310.PV', 'DB.HEAT.TOP.4.2.TMP.1TI40311.PV', 'DB.HEAT.TOP.5.2.TMP.1TI40312.PV', 'DB.HEAT.TOP.6.2.TMP.1TI40313.PV', 'DB.HEAT.TOP.7.2.TMP.1TI40314.PV', 'DB.HEAT.BTM.LEFT.1.TMP.1TI40315.PV', 'DB.HEAT.BTM.LEFT.2.TMP.1TI40316.PV', 'DB.BTM.UP.STM.TC.C.1TI40401_PV', 'DB.BTM.UP.STM.TC.RC.1TI40402_PV', 'DB.BTM.UP.STM.TC.RE.1TI40403_PV', 'DB.BTM.DN.STM.TC.LC.1TI40405_PV', 'DB.BTM.DN.STM.TC.C.1TI40406_PV', 'DB.BTM.DN.STM.TC.RC.1TI40407_PV', 'DROSS.BOX.N2.BTM.HT1.L.1JI39005.PV', 'DROSS.BOX.N2.BTM.HT1.R.1JI39006.PV', 'HOOD.N2.HEATER.R..1JI39008.PV', 'DROSS.BOX.N2.BTM.HT..L..1JI39009.PV', 'DROSS.BOX.N2.BTM.HT..R..1JI39010.PV', 'DROSSBOX.N2.SCN.L.1JI39011_PV', 'DROSSBOX.N2.SCN.R.1JI39012_PV', 'DB.HEAT.TOP.1.1.2.TMP.CT.1JI40301.PV', 'DB.HEAT.TOP.2.1.2.TMP.CT.1JI40302.PV', 'DB.HEAT.TOP.3.1.2.TMP.CT.1JI40303.PV', 'DB.HEAT.TOP.4.1.2.TMP.CT.1JI40304.PV', 'DB.HEAT.TOP.5.1.2.TMP.CT.1JI40305.PV', 'DB.HEAT.TOP.6.1.2.TMP.CT.1JI40306.PV', 'DB.HEAT.TOP.7.1.2.TMP.CT.1JI40307.PV', 'DB.HEAT.BOTTOM.1.1JIC40308.PV', 'DB.HEAT.BOTTOM.2.1JIC40309.PV', 'DB.HEAT.BOTTOM.3.1JIC40310.PV', 'DB.HEAT.BOTTOM.4.1JIC40311.PV', 'DB.HEAT.BOTTOM.5.1JIC40312.PV', 'DB.HEAT.BOTTOM.6.1JIC40313.PV', 'DB.HEAT.BOTTOM.7.1JIC40314.PV', 'ROOF.HT.BAY.1.TOTAL.PWR.1CLBAY1_CPV', 'ROOF.HT.BAY.10.TOTAL.PWR.1CLBAY10_CPV', 'ROOF.HT.BAY.11.TOTAL.PWR.1CLBAY11_CPV', 'ROOF.HT.BAY.3.TOTAL.PWR.1CLBAY3_CPV', 'ROOF.HT.BAY.4.TOTAL.PWR.1CLBAY4_CPV', 'ROOF.HT.BAY.5.TOTAL.PWR.1CLBAY5_CPV', 'ROOF.HT.BAY.6.TOTAL.PWR.1CLBAY6_CPV', 'ROOF.HT.BAY.8.TOTAL.PWR.1CLBAY8_CPV', 'ROOF.HT.BAY.9.TOTAL.PWR.1CLBAY9_CPV', 'ROOF.HT.BAY.TOTAL.PWR.1CLBAYTOT_CPV', 'ROOF.HEATING.Zone.1.1JIC31101.PV.1', 'ROOF.HEATING.Zone.2.1JIC31102.PV.1', 'ROOF.HEATING.Zone.3.1JIC31103.PV.1', 'ROOF.HEATING.Zone.4.1JIC31104.PV.1', 'ROOF.HEATING.Zone.5.1JIC31105.PV', 'ROOF.HEATING.Zone.6.1JIC31106.PV', 'ROOF.HEATING.Zone.7.1JIC31107.PV.1', 'ROOF.HEATING.Zone.8.1JIC31108.PV.1', 'ROOF.HEATING.Zone.9.1JIC31109.PV.1', 'ROOF.HEATING.Zone11.1JIC31111.PV', 'ROOF.HEATING.Zone12.1JIC31112.PV', 'ROOF.HEATING.Zone18.1JIC31118.PV', 'ROOF.HEATING.Zone19.1JIC31119.PV', 'ROOF.HEATING.Zone21.1JIC31121.PV', 'ROOF.HEATING.Zone23.1JIC31123.PV', 'ROOF.HEATING.Zone24.1JIC31124.PV', 'ROOF.HEATING.Zone26.1JIC31126.PV', 'ROOF.HEATING.Zone30.1JIC31130.PV', 'ROOF.HEATING.Zone31.1JIC31131.PV', 'ROOF.HEATING.Zone32.1JIC31132.PV', 'ROOF.HEATING.Zone33.1JIC31133.PV', 'ROOF.HEATING.Zone35.1JIC31135.PV', 'ROOF.HEATING.Zone36.1JIC31136.PV', 'ROOF.HEATING.Zone37.1JIC31137.PV', 'ROOF.HEATING.Zone38.1JIC31138.PV', 'ROOF.HEATING.Zone40.1JIC31140.PV', 'ROOF.HEATING.Zone42.1JIC31142.PV', 'ROOF.HEATING.Zone44.1JIC31144.PV', 'ROOF.HEATING.Zone45.1JIC31145.PV', 'ROOF.HEATING.Zone47.1JIC31147.PV', 'ROOF.HEATING.Zone48.1JIC31148.PV', 'ROOF.HEATING.Zone49.1JIC31149.PV', 'ROOF.HEATING.Zone50.1JIC31150.PV', 'ROOF.HEATING.Zone51.1JIC31151.PV', 'ROOF.HEATING.Zone53.1JIC31153.PV', 'ROOF.HEATING.Zone54.1JIC31154.PV', 'ROOF.HEATING.Zone55.1JIC31155.PV', 'ROOF.HEATING.Zone56.1JIC31156.PV', 'ROOF.HEATING.Zone57.1JIC31157.PV', 'ROOF.HEATING.Zone58.1JIC31158.PV', 'ROOF.HEATING.Zone59.1JIC31159.PV', 'ROOF.HEATING.Zone60.1JIC31160.PV', 'ROOF.HEATING.Zone61.1JIC31161.PV', 'ROOF.HEATING.Zone62.1JIC31162.PV', 'ROOF.HEATING.Zone63.1JIC31163.PV', 'ROOF.HEATING.Zone64.1JIC31164.PV', 'ROOF.HEATING.Zone65.1JIC31165.PV', 'ROOF.HEATING.Zone66.1JIC31166.PV', 'ROOF.HEATING.Zone67.1JIC31167.PV', 'ROOF.HEATING.Zone68.1JIC31168.PV', 'ROOF.HEATING.Zone69.1JIC31169.PV', 'ROOF.HEATING.Zone70.1JIC31170.PV', 'ROOF.HEATING.Zone72.1JIC31172.PV', 'ROOF.HEATING.Zone73.1JIC31173.PV', 'ROOF.HEATING.Zone74.1JIC31174.PV', 'ROOF.HEATING.Zone75.1JIC31175.PV', 'ROOF.HEATING.Zone77.1JIC31177.PV', 'ROOF.HEATING.Zone79.1JIC31179.PV', 'ROOF.HEATING.Zone80.1JIC31180.PV', 'ROOF.HEATING.Zone81.1JIC31181.PV', 'ROOF.HEATING.Zone82.1JIC31182.PV', 'ROOF.HEATING.Zone83.1JIC31183.PV', 'ROOF.HEATING.Zone84.1JIC31184.PV', 'ROOF.HEATING.Zone85.1JIC31185.PV', 'ROOF.HEATING.Zone86.1JIC31186.PV', 'ROOF.HEATING.Zone87.1JIC31187.PV', 'ROOF.HEATING.Zone88.1JIC31188.PV', 'ROOF.HEATING.Zone89.1JIC31189.PV', 'ATM.FLOW.SECT.2.N2.1FI33401.PV', 'ATM.FLOW.SECT.3.N2.1FI33403.PV', 'ATM.FLOW.SECT.4.N2.1FI33405.PV', 'ATM.FLOW.SECT.4.N2.H2.1FI33406.PV', 'ATM.FLOW.SECT.5.N2.1FI33407.PV', 'ATM.FLOW.SECT.6.N2.1FI33409.PV', 'ATM.FLOW.SECT.6.N2.H2.1FI33410.PV.1', 'ATM.FLOW.SECT.7.N2.1FI33411.PV', 'ATM.FLOW.SECT.7.N2.H2.1FI33412.PV.1', 'ATM.FLOW.SECT.8.N2.1FI33413.PV', 'ATM.FLOW.SECT.8.N2.H2.1FI33414.PV.1', 'ATM.FLOW.SECT.1.N2.1FI33423.PV', 'ATM.FLOW.SECT.1.N2.H2.1FI33424.PV', 'ATM.FLOW.SECT.9.N2.1FIC33415.PV.1', 'ATM.FLOW.SECT.9.N2.H2.1FIC33416.PV.1', 'ATM.FLOW.SECT.10.N2.1FIC33417.PV', 'ATM.FLOW.SECT.10.N2.H2.1FIC33418.PV.1', 'SEC11.N2.1FIC33425.PV.1', 'SEC11.N2.H2.9..1FIC33426.PV.1', 'DDP.LEFT.N2.H2.9..1FI33420.PV', 'SPOUT.LEFT.UPSTREAM.1FI33511.PV', 'SPOUT.LEFT.BOTTOM.1FI33513.PV', 'SPOUT.LEFT.TOP.1FI33514.PV', 'SPOUT.RIGHT.UPSTREAM.1FI33516.PV', 'SPOUT.RIGHT.BOS.UPSTREAM.1FI33517.PV', 'SPOUT.RIGHT.BOTTOM.1FI33518.PV', 'SPOUT.RIGHT.TOP.1FI33519.PV', 'ATM.N2.H2.5..함유율.1CLFI33402_CPV', 'ATM.N2.H2.5..함유율.1CLFI33404_CPV', 'ATM.N2.H2.9..함유율.1CLFI33406_CPV', 'ATM.N2.H2.9..함유율.1CLFI33408_CPV', 'ATM.N2.H2.9..함유율.1CLFI33410_CPV', 'ATM.N2.H2.9..함유율.1CLFI33412_CPV', 'ATM.N2.H2.9..함유율.1CLFI33414_CPV', 'ATM.N2.H2.9..함유율.1CLFI33416_CPV', 'ATM.N2.H2.9..함유율.1CLFI33418_CPV', 'ATM.N2.H2.9..함유율.1CLFI33420_CPV', 'ATM.N2.H2.9..함유율.1CLFI33422_CPV', 'ATM.N2.H2.5..함유율.1CLFI33424_CPV', 'ATM.N2.H2.9..함유율.1CLFI33426_CPV', 'DDP.RIGHT.N2.H2.9..1FI33421.PV', 'LOR.1.L.Axis', 'LOR.1.L.Hori', 'LOR.2.L.Axis', 'LOR.2.L.Hori', 'LOR.3.L.Axis', 'LOR.3.L.Hori', 'LOR.1.R.Axis', 'LOR.1.R.Hori', 'LOR.2.R.Axis', 'LOR.2.R.Hori', 'LOR.3.R.Axis', 'LOR.3.R.Hori', 'bay2_4', 'bay4_5', 'bay5_6', 'bay6_7', 'bay7_8', 'l_r_tin_bay10', 'l_r_tin_bay5', 'l_r_tin_bay7', 'l_tin_bay_1_4', 'l_tin_bay_4_5', 'l_tin_bay_5_7', 'l_tin_bay_7_10', 'r_tin_bay_5_7', 'r_tin_bay_7_10', 'bay_stream_var', 'l_r_glass', 'lc_rc_btm_dn', 'le_re_btm_dn', 'c_btm_up_dn', 'rc_btm_up_dn', 're_btm_up_dn', 'l_top_n.1_mean', 'r_top_n.1_mean', 'l_top_n.2_mean', 'r_top_n.2_mean', 'l_r_top_n.1', 'l_r_top_n.2', 'top_1', 'top_2', 'top_3', 'top_4', 'top_5', 'top_6', 'top_7', 'l_n.2_glass', 'r_n.2_glass', 'D_AB1_U_LR', 'D_AB1_L_LR', 'D_AB2_U_LR', 'D_AB2_L_LR', 'D_AB3_U_LR', 'D_AB3_L_LR', 'D_AB4_U_LR', 'D_AB4_L_LR', 'D_AB5_U_LR', 'D_AB5_L_LR', 'D_AB6_U_LR', 'D_AB6_L_LR', 'D_AB7_U_LR', 'D_AB7_L_LR', 'D_AB8_U_LR', 'D_AB8_L_LR', 'D_AB9_U_LR', 'D_AB9_L_LR', 'D_AB10_U_LR', 'D_AB10_L_LR', 'D_AB11_U_LR', 'D_AB11_L_LR', 'D_AB1_L_UL', 'D_AB1_R_UL', 'D_AB2_L_UL', 'D_AB2_R_UL', 'D_AB3_L_UL', 'D_AB3_R_UL', 'D_AB4_L_UL', 'D_AB4_R_UL', 'D_AB5_L_UL', 'D_AB5_R_UL', 'D_AB6_L_UL', 'D_AB6_R_UL', 'D_AB7_L_UL', 'D_AB7_R_UL', 'D_AB8_L_UL', 'D_AB8_R_UL', 'D_AB9_L_UL', 'D_AB9_R_UL', 'D_AB10_L_UL', 'D_AB11_L_UL', 'D_AB11_R_UL', 'D_C1_U_LR', 'D_C1_L_LR', 'D_C2_U_LR', 'D_C2_L_LR', 'D_C3_U_LR', 'D_C3_L_LR', 'D_C4_U_LR', 'D_C4_L_LR', 'D_C1_R_UL', 'D_C2_L_UL', 'D_C2_R_UL', 'D_C3_L_UL', 'D_C3_R_UL', 'D_C4_L_UL', 'D_C4_R_UL', 'D_GLS_AB1_LR', 'D_GLS_AB11_LR', 'D_GLS_AB7_LR', 'D_GLS_C4_LR', 'D_GLS_F_LR', 'D_GLS_RET_LR', 'S_AB1_AB2_U_L', 'S_AB1_AB2_U_R', 'S_AB1_AB2_L_L', 'S_AB1_AB2_L_R', 'S_AB2_AB3_U_L', 'S_AB2_AB3_U_R', 'S_AB2_AB3_L_L', 'S_AB2_AB3_L_R', 'S_AB3_AB4_U_L', 'S_AB3_AB4_U_R', 'S_AB3_AB4_L_L', 'S_AB3_AB4_L_R', 'S_AB4_AB5_U_L', 'S_AB4_AB5_U_R', 'S_AB4_AB5_L_L', 'S_AB4_AB5_L_R', 'S_AB5_AB6_U_L', 'S_AB5_AB6_U_R', 'S_AB5_AB6_L_L', 'S_AB5_AB6_L_R', 'S_AB6_AB7_U_L', 'S_AB6_AB7_U_R', 'S_AB6_AB7_L_L', 'S_AB6_AB7_L_R', 'S_AB7_AB8_U_L', 'S_AB7_AB8_U_R', 'S_AB7_AB8_L_L', 'S_AB7_AB8_L_R', 'S_AB8_AB9_U_L', 'S_AB8_AB9_U_R', 'S_AB8_AB9_L_L', 'S_AB8_AB9_L_R', 'S_AB9_AB10_U_L', 'S_AB9_AB10_U_R', 'S_AB9_AB10_L_L', 'S_AB9_AB10_L_R', 'S_AB10_AB11_U_L', 'S_AB10_AB11_U_R', 'S_AB10_AB11_L_L', 'S_AB10_AB11_L_R', 'S_AB11_C1_L_L', 'S_AB11_C1_L_R', 'S_C1_C2_U_L', 'S_C1_C2_U_R', 'S_C1_C2_L_L', 'S_C1_C2_L_R', 'S_C2_C3_U_L', 'S_C2_C3_U_R', 'S_C2_C3_L_L', 'S_C2_C3_L_R', 'S_C3_C4_U_L', 'S_C3_C4_U_R', 'S_C3_C4_L_L', 'S_C3_C4_L_R', 'S_AB1_AB11_L', 'S_AB1_AB11_R', 'S_AB11_AB7_L', 'S_AB11_AB7_R', 'S_AB7_C4_L', 'S_AB7_C4_R', 'S_C4_RET_L', 'S_C4_RET_R', 'S_RET_F_L', 'STD_U_L', 'STD_U_R', 'STD_L_L', 'STD_L_R', 'STD_GLS_L', 'STD_GLS_R', '투입.LEFT.', '투입.RIGHT.', 'ROLLDOWN.폐기.LEFT.', '진공패드.폐기.LEFT.', 'ROLLDOWN.폐기.RIGHT.', '진공패드.폐기.RIGHT.', '폐기율...', 'ROLLDOWN.진공패드.폐기율..LEFT.', 'ROLLDOWN.진공패드.폐기율..RIGHT.', 'ROLLDOWN.진공패드.폐기율..전체.', 'L.RD', 'L.Vac', 'R.RD', 'R.Vac']\n",
      "680\n"
     ]
    }
   ],
   "source": [
    "outlier_columns = []\n",
    "for col, outlier_list in outliers.items() :\n",
    "  if len(outlier_list) > 0 :\n",
    "    outlier_columns.append(col)\n",
    "\n",
    "print(outlier_columns)\n",
    "print(len(outlier_columns)) # 680개 > 피쳐 엔지니어링 후 이상치 재확인확인"
   ]
  },
  {
   "cell_type": "markdown",
   "metadata": {},
   "source": [
    "## 3. 타겟 불량 라벨링(DBSCAN)"
   ]
  },
  {
   "cell_type": "code",
   "execution_count": 53,
   "metadata": {},
   "outputs": [
    {
     "name": "stdout",
     "output_type": "stream",
     "text": [
      "<class 'pandas.core.frame.DataFrame'>\n",
      "Index: 8143 entries, 2016-01-01 07:00:00 to 2016-12-31 23:00:00\n",
      "Columns: 124 entries, X1WOS45106_PV to L.Vac\n",
      "dtypes: float64(121), int64(3)\n",
      "memory usage: 7.8+ MB\n"
     ]
    }
   ],
   "source": [
    "feat_extraction_df = pd.read_csv('../data/feature_extraction_df.csv', index_col= 0)\n",
    "feat_extraction_df.info()"
   ]
  },
  {
   "cell_type": "code",
   "execution_count": 56,
   "metadata": {},
   "outputs": [
    {
     "data": {
      "text/plain": [
       "<seaborn.axisgrid.FacetGrid at 0x2baa8bee2d0>"
      ]
     },
     "execution_count": 56,
     "metadata": {},
     "output_type": "execute_result"
    },
    {
     "data": {
      "image/png": "[encoded data removed]",
      "text/plain": [
       "<Figure size 500x500 with 1 Axes>"
      ]
     },
     "metadata": {},
     "output_type": "display_data"
    },
    {
     "data": {
      "image/png": "[encoded data removed]",
      "text/plain": [
       "<Figure size 500x500 with 1 Axes>"
      ]
     },
     "metadata": {},
     "output_type": "display_data"
    }
   ],
   "source": [
    "sns.displot(np.log(feat_extraction_df['L.RD']))\n",
    "sns.displot(np.log(feat_extraction_df['L.Vac']))"
   ]
  },
  {
   "cell_type": "code",
   "execution_count": 57,
   "metadata": {},
   "outputs": [
    {
     "name": "stdout",
     "output_type": "stream",
     "text": [
      "L.RD와 L.VAC 간의 상관계수: 0.19508106124792296\n"
     ]
    }
   ],
   "source": [
    "# 타겟 간 상관계수\n",
    "\n",
    "corr_target = feat_extraction_df['L.RD'].corr(feat_extraction_df['L.Vac'])\n",
    "print(\"L.RD와 L.VAC 간의 상관계수:\", corr_target)\n",
    "\n",
    "# 0.2정도로 별도로 훈련"
   ]
  },
  {
   "cell_type": "code",
   "execution_count": null,
   "metadata": {},
   "outputs": [],
   "source": [
    "# 이상치에 대한 임계값을 모르므로 DBSCAN활용\n",
    "# eps : 너무 크면 하나의 클러스터로 묶일 수 있고 너무 작으면 클러스터가 너무 세분화됨"
   ]
  },
  {
   "cell_type": "code",
   "execution_count": 58,
   "metadata": {},
   "outputs": [],
   "source": [
    "target_df = feat_extraction_df[['L.RD', 'L.Vac']]"
   ]
  },
  {
   "cell_type": "code",
   "execution_count": 65,
   "metadata": {},
   "outputs": [],
   "source": [
    "# print(target_df['L.RD'].isnull().sum())"
   ]
  },
  {
   "cell_type": "code",
   "execution_count": 63,
   "metadata": {},
   "outputs": [
    {
     "data": {
      "text/plain": [
       "target_RD_defect\n",
       "0    7064\n",
       "1    1079\n",
       "Name: count, dtype: int64"
      ]
     },
     "execution_count": 63,
     "metadata": {},
     "output_type": "execute_result"
    }
   ],
   "source": [
    "RD_threshold = np.percentile(feat_extraction_df['L.RD'], q= 87)\n",
    "target_df['target_RD_defect'] = np.where(feat_extraction_df['L.RD'] >= RD_threshold, 1, 0)\n",
    "target_df['target_RD_defect'].value_counts() # 7326, 1079"
   ]
  },
  {
   "cell_type": "code",
   "execution_count": null,
   "metadata": {},
   "outputs": [],
   "source": []
  },
  {
   "cell_type": "code",
   "execution_count": null,
   "metadata": {},
   "outputs": [
    {
     "name": "stdout",
     "output_type": "stream",
     "text": [
      "RD_cluster\n",
      " 0    7096\n",
      "-1    1047\n",
      "Name: count, dtype: int64\n"
     ]
    }
   ],
   "source": [
    "# 폐기율 데이터 (연속형 타겟)\n",
    "target_RD = feat_extraction_df['L.RD'].values.reshape(-1, 1)  # 1차원 데이터를 2D 형태로 변환\n",
    "\n",
    "# DBSCAN 적용\n",
    "dbscan = DBSCAN(eps=0.008, min_samples= 1500) # 0.008보다 크면 오히려 이상치 줄어들고 0.007로 하면 클러스터가 늘어남\n",
    "clusters = dbscan.fit_predict(target_RD)\n",
    "\n",
    "np.unique(clusters)\n",
    "\n",
    "# 결과를 데이터프레임에 추가\n",
    "target_df = pd.DataFrame()\n",
    "target_df['RD_cluster'] = clusters\n",
    "print(target_df['RD_cluster'].value_counts())  # 각 클러스터별 데이터 수"
   ]
  },
  {
   "cell_type": "code",
   "execution_count": 93,
   "metadata": {},
   "outputs": [
    {
     "name": "stdout",
     "output_type": "stream",
     "text": [
      "0.841\n",
      "0.034\n"
     ]
    },
    {
     "data": {
      "text/plain": [
       "target_RD_defect\n",
       "0                   7096\n",
       "1                   1047\n",
       "Name: count, dtype: int64"
      ]
     },
     "execution_count": 93,
     "metadata": {},
     "output_type": "execute_result"
    }
   ],
   "source": [
    "RD_outlier_idx = target_df[target_df['RD_cluster'] == -1].index\n",
    "RD_outlier_values = feat_extraction_df.iloc[RD_outlier_idx]['L.RD'].values\n",
    "\n",
    "print(np.max(RD_outlier_values))\n",
    "print(np.min(RD_outlier_values)) # 이상치 중 가장 작은 값보다 크면 불량(폐기율이기 때문)\n",
    "\n",
    "target_df['target_RD_defect'] = np.where(feat_extraction_df['L.RD'] >= np.min(RD_outlier_values), 1, 0)\n",
    "target_df[['target_RD_defect']].value_counts()"
   ]
  },
  {
   "cell_type": "code",
   "execution_count": 95,
   "metadata": {},
   "outputs": [
    {
     "name": "stdout",
     "output_type": "stream",
     "text": [
      "Vac_cluster\n",
      " 0    7039\n",
      "-1    1104\n",
      "Name: count, dtype: int64\n"
     ]
    }
   ],
   "source": [
    "# 폐기율 데이터 (연속형 타겟)\n",
    "target_Vac = feat_extraction_df['L.Vac'].values.reshape(-1, 1)  # 1차원 데이터를 2D 형태로 변환\n",
    "\n",
    "# DBSCAN 적용\n",
    "dbscan = DBSCAN(eps= 0.008, min_samples= 1000) \n",
    "clusters = dbscan.fit_predict(target_Vac)\n",
    "\n",
    "# 결과를 데이터프레임에 추가\n",
    "target_df = pd.DataFrame()\n",
    "target_df['Vac_cluster'] = clusters\n",
    "print(target_df['Vac_cluster'].value_counts())  # 각 클러스터별 데이터 수\n"
   ]
  },
  {
   "cell_type": "code",
   "execution_count": 96,
   "metadata": {},
   "outputs": [
    {
     "name": "stdout",
     "output_type": "stream",
     "text": [
      "0.4\n",
      "0.039\n"
     ]
    },
    {
     "data": {
      "text/plain": [
       "target_Vac_defect\n",
       "0                    7039\n",
       "1                    1104\n",
       "Name: count, dtype: int64"
      ]
     },
     "execution_count": 96,
     "metadata": {},
     "output_type": "execute_result"
    }
   ],
   "source": [
    "Vac_outlier_idx = target_df[target_df['Vac_cluster'] == -1].index\n",
    "Vac_outlier_values = feat_extraction_df.iloc[Vac_outlier_idx]['L.Vac'].values\n",
    "\n",
    "print(np.max(Vac_outlier_values))\n",
    "print(np.min(Vac_outlier_values))\n",
    "\n",
    "target_df['target_Vac_defect'] = np.where(feat_extraction_df['L.Vac'] >= np.min(Vac_outlier_values), 1, 0)\n",
    "target_df[['target_Vac_defect']].value_counts()"
   ]
  },
  {
   "cell_type": "code",
   "execution_count": 97,
   "metadata": {},
   "outputs": [
    {
     "name": "stdout",
     "output_type": "stream",
     "text": [
      "<class 'pandas.core.frame.DataFrame'>\n",
      "Index: 8143 entries, 2016-01-01 07:00:00 to 2016-12-31 23:00:00\n",
      "Columns: 123 entries, X1WOS45106_PV to RD_defect\n",
      "dtypes: float64(119), int32(1), int64(3)\n",
      "memory usage: 7.7+ MB\n"
     ]
    }
   ],
   "source": [
    "# preprocessing_df.info()\n",
    "feat_extraction_df['RD_defect'] = np.where(feat_extraction_df['L.RD'] >= np.min(RD_outlier_values), 1, 0) # 1047개의 불량\n",
    "feat_extraction_df['Vac_defect'] = np.where(feat_extraction_df['L.Vac'] >= np.min(Vac_outlier_values), 1, 0) # 1104개의 불량\n",
    "# preprocessing_df.info()\n",
    "\n",
    "analysis_df = feat_extraction_df.drop(['L.RD', 'L.Vac'], axis= 1)\n",
    "RD_analysis_df = analysis_df.drop(['Vac_defect'], axis= 1)\n",
    "Vac_analysis_df = analysis_df.drop(['RD_defect'], axis= 1)\n",
    "\n",
    "RD_analysis_df.info() # (8143, 123)"
   ]
  },
  {
   "cell_type": "code",
   "execution_count": 98,
   "metadata": {},
   "outputs": [],
   "source": [
    "RD_total_df = RD_analysis_df.copy()\n",
    "RD_total_df.to_csv('../data/RD_total_df.csv', header= True, index= True)\n",
    "\n",
    "Vac_total_df = Vac_analysis_df.copy()\n",
    "Vac_total_df.to_csv('../data/Vac_total_df.csv', header= True, index= True)"
   ]
  },
  {
   "cell_type": "markdown",
   "metadata": {},
   "source": [
    "## 4. 타겟 2000개 샘플링(양품 : 1000개, 불량품 : 1000개) "
   ]
  },
  {
   "cell_type": "code",
   "execution_count": 99,
   "metadata": {},
   "outputs": [
    {
     "data": {
      "text/plain": [
       "1047"
      ]
     },
     "execution_count": 99,
     "metadata": {},
     "output_type": "execute_result"
    }
   ],
   "source": [
    "RD_analysis_df['RD_defect'].value_counts()[1]"
   ]
  },
  {
   "cell_type": "code",
   "execution_count": 100,
   "metadata": {},
   "outputs": [
    {
     "name": "stdout",
     "output_type": "stream",
     "text": [
      "<class 'pandas.core.frame.DataFrame'>\n",
      "Index: 2094 entries, 2016-02-22 23:00:00 to 2016-12-31 01:00:00\n",
      "Columns: 123 entries, X1WOS45106_PV to RD_defect\n",
      "dtypes: float64(119), int32(1), int64(3)\n",
      "memory usage: 2.0+ MB\n"
     ]
    }
   ],
   "source": [
    "RD_normal_df = RD_analysis_df[RD_analysis_df['RD_defect'] == 0]\n",
    "RD_defective_df = RD_analysis_df[RD_analysis_df['RD_defect'] == 1]\n",
    "RD_normal_sample_df = RD_normal_df.sample(n= RD_analysis_df['RD_defect'].value_counts()[1], random_state= 42)\n",
    "RD_sample_df = pd.concat([RD_normal_sample_df, RD_defective_df])\n",
    "RD_sample_df.info()\n",
    "\n",
    "RD_sample_df.to_csv('../data/RD_sample_df.csv', header= True, index= True)"
   ]
  },
  {
   "cell_type": "code",
   "execution_count": 101,
   "metadata": {},
   "outputs": [
    {
     "name": "stdout",
     "output_type": "stream",
     "text": [
      "<class 'pandas.core.frame.DataFrame'>\n",
      "Index: 2208 entries, 2016-04-13 18:00:00 to 2016-12-30 06:00:00\n",
      "Columns: 123 entries, X1WOS45106_PV to Vac_defect\n",
      "dtypes: float64(119), int32(1), int64(3)\n",
      "memory usage: 2.1+ MB\n"
     ]
    }
   ],
   "source": [
    "Vac_normal_df = Vac_analysis_df[Vac_analysis_df['Vac_defect'] == 0]\n",
    "Vac_defective_df = Vac_analysis_df[Vac_analysis_df['Vac_defect'] == 1]\n",
    "Vac_normal_sample_df = Vac_normal_df.sample(n= Vac_analysis_df['Vac_defect'].value_counts()[1], random_state= 42)\n",
    "Vac_sample_df = pd.concat([Vac_normal_sample_df, Vac_defective_df])\n",
    "Vac_sample_df.info()\n",
    "\n",
    "Vac_sample_df.to_csv('../data/Vac_sample_df.csv', header= True, index= True)"
   ]
  },
  {
   "cell_type": "code",
   "execution_count": null,
   "metadata": {},
   "outputs": [],
   "source": [
    "# 머신러닝 10개의 피쳐를 가진 예측 문제에서 선형 회귀 모델을 학습하려면 100~500개의 데이터 필요\n",
    "# 딥러닝 10개의 클래스를 분류하는 CNN모델의 경우 클래스당 1000개 이상 필요\n",
    "\n",
    "# 현재 94개의 피쳐 : 최소 1000~5000개의 데이터 필요\n",
    "\n",
    "# 해결 방법\n",
    "# 1) 언더샘플링 - 무작위 샘플링하여 데이터 비율 맞추는 방법(데이터 손실 주의)\n",
    "# 2) 오버샘플링 - 소수 클래스를 중복 생성하여 비율 맞추는 방법(과적합 주의)\n",
    "# 3) 차원 축소\n",
    "# 4) 클래스 가중치 조정 - 소수 클래스에 더 큰 가중치 부여 : sklearn의 class_weight 매개변수\n",
    "# 5) 앙상블 모델 - 여러 모델을 조합하여 성능을 내는 방법 - 랜덤 포레스트나 배깅과 같은 앙상블 기법\n",
    "\n",
    "# 평가 지표 선택\n",
    "# 불균형 데이터의 경우 정확도만으로 성능 평가가 어려움\n",
    "# 정밀도, 재현율, F1 점수, AUC-ROC\n",
    "\n",
    "# 랜덤 포레스트/XGBoost와 같은 머신 러닝 모델 시도\n",
    "# 충분한 성능을 얻지 못한다면 데이터 증강 및 오버 샘플링을 사용하여 딥러닝 모델 시도"
   ]
  }
 ],
 "metadata": {
  "kernelspec": {
   "display_name": "base",
   "language": "python",
   "name": "python3"
  },
  "language_info": {
   "codemirror_mode": {
    "name": "ipython",
    "version": 3
   },
   "file_extension": ".py",
   "mimetype": "text/x-python",
   "name": "python",
   "nbconvert_exporter": "python",
   "pygments_lexer": "ipython3",
   "version": "3.11.5"
  }
 },
 "nbformat": 4,
 "nbformat_minor": 2
}
