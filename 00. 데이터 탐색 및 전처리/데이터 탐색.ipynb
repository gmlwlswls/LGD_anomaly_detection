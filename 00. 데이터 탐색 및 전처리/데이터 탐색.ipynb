{
 "cells": [
  {
   "cell_type": "markdown",
   "metadata": {},
   "source": [
    "## 데이터 탐색"
   ]
  },
  {
   "cell_type": "code",
   "execution_count": 1,
   "metadata": {},
   "outputs": [],
   "source": [
    "import pandas as pd \n",
    "import numpy as np"
   ]
  },
  {
   "cell_type": "code",
   "execution_count": 36,
   "metadata": {},
   "outputs": [
    {
     "name": "stdout",
     "output_type": "stream",
     "text": [
      "<class 'pandas.core.frame.DataFrame'>\n",
      "RangeIndex: 8145 entries, 0 to 8144\n",
      "Columns: 841 entries, dat...date.name. to R.Vac\n",
      "dtypes: float64(834), int64(6), object(1)\n",
      "memory usage: 52.3+ MB\n"
     ]
    },
    {
     "data": {
      "text/plain": [
       "8145"
      ]
     },
     "execution_count": 36,
     "metadata": {},
     "output_type": "execute_result"
    }
   ],
   "source": [
    "factory_df = pd.read_csv('../data/factory_glass_2016.csv', encoding= 'cp949')\n",
    "factory_df.info() # 8145 data, 842 columns\n",
    "factory_df.head()\n",
    "len(factory_df.index)"
   ]
  },
  {
   "cell_type": "markdown",
   "metadata": {},
   "source": [
    "- 결측치 제거"
   ]
  },
  {
   "cell_type": "code",
   "execution_count": 37,
   "metadata": {},
   "outputs": [
    {
     "name": "stdout",
     "output_type": "stream",
     "text": [
      "<class 'pandas.core.frame.DataFrame'>\n",
      "RangeIndex: 8145 entries, 0 to 8144\n",
      "Columns: 834 entries, dat...date.name. to R.Vac\n",
      "dtypes: float64(827), int64(6), object(1)\n",
      "memory usage: 51.8+ MB\n"
     ]
    }
   ],
   "source": [
    "# 각 컬럼의 결측치 수 확인\n",
    "missing_values_columns = factory_df.isnull().sum() \n",
    "# print(missing_values_columns[missing_values_columns > 0])  # 결측치가 있는 컬럼만 출력\n",
    "# print(missing_values_columns[missing_values_columns > 8000]) # 7개의 열 - 결측치 8145\n",
    "\n",
    "drop_df = factory_df.drop(missing_values_columns[missing_values_columns == 8145].index, axis= 1) \n",
    "drop_df.info() # column 841 > 834 : 7개의 컬럼 삭제\n",
    "\n",
    "missing_values_columns = drop_df.isnull().sum()\n",
    "# print(missing_values_columns[missing_values_columns > 0]) # 127개의 column 결측치 존재"
   ]
  },
  {
   "cell_type": "code",
   "execution_count": null,
   "metadata": {},
   "outputs": [
    {
     "name": "stdout",
     "output_type": "stream",
     "text": [
      "3754    1\n",
      "dtype: int64\n",
      "\n",
      "<class 'pandas.core.frame.DataFrame'>\n",
      "RangeIndex: 8142 entries, 0 to 8141\n",
      "Columns: 834 entries, dat...date.name. to R.Vac\n",
      "dtypes: float64(827), int64(6), object(1)\n",
      "memory usage: 51.8+ MB\n",
      "\n"
     ]
    },
    {
     "data": {
      "text/plain": [
       "Series([], dtype: int64)"
      ]
     },
     "execution_count": 39,
     "metadata": {},
     "output_type": "execute_result"
    }
   ],
   "source": [
    "# 각 인덱스의 결측치 수 확인\n",
    "missing_values_rows = drop_df.isnull().sum(axis= 1)\n",
    "print(missing_values_rows[missing_values_rows > 0]) # 3754 index : 1, 6310 index : 39, 8044 index : 87 -> 6310, 8044 index 삭제\n",
    "print()\n",
    "# 8044 -> 1은 보간법으로 채움 - 시계열 데이터의 경우 선형 보간법 혹은 시간 기반 보간법\n",
    "drop_df = drop_df.drop(missing_values_rows[missing_values_rows > 0].index[-2:], axis= 0)\n",
    "drop_df.reset_index(drop= True, inplace= True) # 8145 index > 8143 index\n",
    "drop_df.info() # \n",
    "print()\n",
    "# 행 삭제, 보간 적용 확인\n",
    "missing_values_rows = drop_df.isnull().sum(axis= 1)\n",
    "missing_values_rows[missing_values_rows > 0] # 없는 것 확인"
   ]
  },
  {
   "cell_type": "code",
   "execution_count": null,
   "metadata": {},
   "outputs": [],
   "source": [
    "# 보간법 imputer 사용 방법\n",
    "# from sklearn.impute import SimpleImputer\n",
    "# imputer = SimpleImputer(strategy = 'median')"
   ]
  },
  {
   "cell_type": "code",
   "execution_count": 70,
   "metadata": {},
   "outputs": [
    {
     "name": "stdout",
     "output_type": "stream",
     "text": [
      "71\n",
      "DB.N2.SCREEN.FLOW.LEFT.1FI49011_PV\n",
      "DB.N2.SCREEN.FLOW.RIGHT.1FI49012_PV\n",
      "Left.edge\n",
      "Right.edge\n",
      "TMP.TIN..BAY.1.LEFT.1TI30201.PV\n",
      "TMP.TIN..BAY.1.RIGHT.1TI30202.PV\n",
      "TMP.TIN..BAY.4.LEFT.1TI30203.PV\n",
      "TMP.TIN..BAY.5.LEFT.1TI30205.PV\n",
      "TMP.TIN..BAY.5.RIGHT.1TI30206.PV\n",
      "TMP.TIN..BAY.7.LEFT.1TI30207.PV\n",
      "TMP.TIN..BAY.7.RIGHT.1TI30208.PV\n",
      "TMP.TIN..BAY.10.LEFT.1TI30209.PV\n",
      "TMP.TIN..BAY.10.RIGHT.1TI30210.PV\n",
      "X.10.BAY.LEFT.PRESSURE.1CLBAY10LEFT_CPV\n",
      "X.10.BAY.RIGHT.PRESSURE.1CLBAY10RIGHT_CPV\n",
      "X.1.BAY.LEFT.PRESSURE.1CLBAY1LEFT_CPV\n",
      "X.1.BAY.RIGHT.PRESSURE.1CLBAY1RIGHT_CPV\n",
      "X.7.BAY.LEFT.PRESSURE.1CLBAY7LEFT_CPV\n",
      "X.7.BAY.RIGHT.PRESSURE.1CLBAY7RIGHT_CPV\n",
      "RET.AMBIANT.LEFT.TMP.1TI42602.PV\n",
      "RET.AMBIANT.RIGHT.TMP.1TI42603.PV\n",
      "BATH.AMBIENT.3.BAY.RIGHT.1TI31002_PV\n",
      "BATH.AMBIENT.3.BAY.LEFT.1TI31003_PV\n",
      "DB.N2.SCREEN.FLOW.LEFT.1FI49011_PV.1\n",
      "DB.N2.SCREEN.FLOW.RIGHT.1FI49012_PV.1\n",
      "EXIT.LIP.PLATE.LEFT.1TI30604.PV\n",
      "EXIT.LIP.PLATE.RIGHT.1TI30605.PV\n",
      "E.L.DB.LEFT..N2.FLOW.1FI33501.PV\n",
      "E.L.DB.RIGHT.N2.FLOW.1FI33502.PV\n",
      "TMP.GLASS..LEFT.EXIT.1TIC30109.PV\n",
      "TMP.GLASS..RIGHT.EXIT.1TIC30111.PV\n",
      "DB.HEAT.BTM.LEFT.1.TMP.1TI40315.PV\n",
      "DB.HEAT.BTM.LEFT.2.TMP.1TI40316.PV\n",
      "DROSS.BOX.N2.BTM.HT1.L.1JI39005.PV\n",
      "DROSS.BOX.N2.BTM.HT1.R.1JI39006.PV\n",
      "DROSSBOX.N2.SCN.L.1JI39011_PV\n",
      "DROSSBOX.N2.SCN.R.1JI39012_PV\n",
      "DDP.LEFT.N2.H2.9..1FI33420.PV\n",
      "SPOUT.LEFT.UPSTREAM.1FI33511.PV\n",
      "SPOUT.LEFT.BOS.UPSTREAM.1FI33512.PV\n",
      "SPOUT.LEFT.BOTTOM.1FI33513.PV\n",
      "SPOUT.LEFT.TOP.1FI33514.PV\n",
      "SPOUT.RIGHT.UPSTREAM.1FI33516.PV\n",
      "SPOUT.RIGHT.BOS.UPSTREAM.1FI33517.PV\n",
      "SPOUT.RIGHT.BOTTOM.1FI33518.PV\n",
      "SPOUT.RIGHT.TOP.1FI33519.PV\n",
      "DDP.RIGHT.N2.H2.9..1FI33421.PV\n",
      "LOR.1.L.Axis\n",
      "LOR.1.L.Hori\n",
      "LOR.2.L.Axis\n",
      "LOR.2.L.Hori\n",
      "LOR.3.L.Axis\n",
      "LOR.3.L.Hori\n",
      "LOR.1.R.Axis\n",
      "LOR.1.R.Hori\n",
      "LOR.2.R.Axis\n",
      "LOR.2.R.Hori\n",
      "LOR.3.R.Axis\n",
      "LOR.3.R.Hori\n",
      "투입.LEFT.\n",
      "투입.RIGHT.\n",
      "ROLLDOWN.폐기.LEFT.\n",
      "진공패드.폐기.LEFT.\n",
      "ROLLDOWN.폐기.RIGHT.\n",
      "진공패드.폐기.RIGHT.\n",
      "ROLLDOWN.진공패드.폐기율..LEFT.\n",
      "ROLLDOWN.진공패드.폐기율..RIGHT.\n",
      "L.RD\n",
      "L.Vac\n",
      "R.RD\n",
      "R.Vac\n"
     ]
    }
   ],
   "source": [
    "# drop_df.info()\n",
    "drop_df.select_dtypes(object) # 날짜\n",
    "# 그 외 데이터는 모두 수치형 데이터\n",
    "\n",
    "pd.set_option('display.max_rows', None)\n",
    "pd.set_option('display.max_columns', None)\n",
    "\n",
    "# LEFT, RIGHT 이름의 공정 중 LEFT,RIGHT만 다르고 공정명 동일 - 중요 공정 파악 문제이므로 둘 중 하나만 남김\n",
    "# 단 LEFT/RIGHT를 제외한 공정명 동일해야 하고 공정번호 다른건 OK\n",
    "# UPPER, LOWER은 공정의 비가 동일하지 않아 다른 공정일 수 있어서 삭제하지 않음\n",
    "# 결과 도출 시 LEFT가 중요하면 RIGHT도 중요한지 한 번 확인\n",
    "features = drop_df.columns.tolist()\n",
    "# for feature in features:\n",
    "#     print(feature)\n",
    "\n",
    "# LEFT, RIGHT / L.,R. / l_,r_ / _L, _R\n",
    "lr_columns = drop_df.filter(regex=r'\\b(LEFT|RIGHT|Left|Right|L\\.|R\\.|l_|r_|_L|_R)\\b').columns.tolist()\n",
    "print(len(lr_columns))\n",
    "for column in lr_columns :\n",
    "  print(column)\n",
    "\n",
    "# drop_df.describe()\n"
   ]
  },
  {
   "cell_type": "code",
   "execution_count": null,
   "metadata": {},
   "outputs": [],
   "source": []
  },
  {
   "cell_type": "code",
   "execution_count": null,
   "metadata": {},
   "outputs": [],
   "source": []
  }
 ],
 "metadata": {
  "kernelspec": {
   "display_name": "base",
   "language": "python",
   "name": "python3"
  },
  "language_info": {
   "codemirror_mode": {
    "name": "ipython",
    "version": 3
   },
   "file_extension": ".py",
   "mimetype": "text/x-python",
   "name": "python",
   "nbconvert_exporter": "python",
   "pygments_lexer": "ipython3",
   "version": "3.11.5"
  }
 },
 "nbformat": 4,
 "nbformat_minor": 2
}
