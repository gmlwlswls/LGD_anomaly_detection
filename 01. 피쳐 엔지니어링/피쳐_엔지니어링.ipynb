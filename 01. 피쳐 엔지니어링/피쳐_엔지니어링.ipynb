{
 "cells": [
  {
   "cell_type": "markdown",
   "metadata": {},
   "source": [
    "## 1. PCA"
   ]
  },
  {
   "cell_type": "code",
   "execution_count": 1,
   "metadata": {},
   "outputs": [
    {
     "name": "stdout",
     "output_type": "stream",
     "text": [
      "<class 'pandas.core.frame.DataFrame'>\n",
      "Index: 8143 entries, 2016-01-01 07:00:00 to 2016-12-31 23:00:00\n",
      "Data columns (total 94 columns):\n",
      " #   Column                                 Non-Null Count  Dtype  \n",
      "---  ------                                 --------------  -----  \n",
      " 0   X1WOS45106_PV                          8143 non-null   float64\n",
      " 1   X1WOS45109_PV                          8143 non-null   float64\n",
      " 2   DB.N2.SCREEN.FLOW.LEFT.1FI49011_PV     8143 non-null   float64\n",
      " 3   N2.TO.EA1313A.1FI33503A_PV             8143 non-null   float64\n",
      " 4   ROOF.HEATING.Zone.1.1JIC31101.PV       8143 non-null   float64\n",
      " 5   ROOF.HEATING.Zone.2.1JIC31102.PV       8143 non-null   float64\n",
      " 6   ROOF.HEATING.Zone.3.1JIC31103.PV       8143 non-null   float64\n",
      " 7   ROOF.HEATING.Zone.4.1JIC31104.PV       8143 non-null   float64\n",
      " 8   ATM.FLOW.SECT.9.N2.1FIC33415.PV        8143 non-null   float64\n",
      " 9   Gross.width                            8143 non-null   float64\n",
      " 10  UPPER.AB1.Z1.TMP.1TIC41101.PV          8143 non-null   float64\n",
      " 11  LOWER.AB1.Z9.TMP.1TIC41152.PV          8143 non-null   float64\n",
      " 12  UPPER.AB8.Z99.TMP.1TIC41801.PV         8143 non-null   float64\n",
      " 13  LIFT.OUT.ROL.MTR.M1.CUR.1WII40101.PV   8143 non-null   float64\n",
      " 14  LIFT.OUT.ROL.MTR.M2.CUR.1WII40102.PV   8143 non-null   float64\n",
      " 15  LEHR.DRV.MTR..M8.1.CUR.1WII40112.PV    8143 non-null   float64\n",
      " 16  LEHR.DRV.MTR..M12.1.CUR.1WII40120.PV   8143 non-null   float64\n",
      " 17  LEHR.DRV.MTR..M15.1.CUR.1WII40126.PV   8143 non-null   float64\n",
      " 18  LEHR.DRV.MTR..M18.1.CUR.1WII40132.PV   8143 non-null   float64\n",
      " 19  LEHR.DRV.MTR..M19.1.CUR.1WII40134.PV   8143 non-null   float64\n",
      " 20  X1WOS45106_PV.1                        8143 non-null   float64\n",
      " 21  DCS_Offset_RPM_M11.1WOS45111_PV.1      8143 non-null   float64\n",
      " 22  TMP.TIN..BAY.1.LEFT.1TI30201.PV        8143 non-null   float64\n",
      " 23  X.1.BAY.LEFT.PRESSURE.1CLBAY1LEFT_CPV  8143 non-null   float64\n",
      " 24  X.7.BAY.LEFT.PRESSURE.1CLBAY7LEFT_CPV  8143 non-null   float64\n",
      " 25  X.1.LEHR.SO2.ANALYZER.1AI44110.PV      8143 non-null   float64\n",
      " 26  X.1.LEHR.O2.ANALYZER.1AI44111.PV       8143 non-null   float64\n",
      " 27  X.2.LEHR.SO2.ANALYZER.1AI44112.PV      8143 non-null   float64\n",
      " 28  X.2.LEHR.O2.ANALYZER.1AI44113.PV       8143 non-null   float64\n",
      " 29  N2.TO.EA1313B.1FI33527A_PV             8143 non-null   float64\n",
      " 30  N2.TO.HOOD.DOWN.STREAM.1FI33505A_PV    8143 non-null   float64\n",
      " 31  LEHR.AB1.PRESS.1PI40302.PV             8143 non-null   float64\n",
      " 32  DB.HEAT.TOP.7.1.TMP.1TI40307.PV        8143 non-null   float64\n",
      " 33  HOOD.N2.TOP.HEATER.L..1JI39007.PV      8143 non-null   float64\n",
      " 34  DB.HEAT.BOTTOM.1.1JIC40308.PV          8143 non-null   float64\n",
      " 35  DB.HEAT.BOTTOM.3.1JIC40310.PV          8143 non-null   float64\n",
      " 36  DB.HEAT.BOTTOM.4.1JIC40311.PV          8143 non-null   float64\n",
      " 37  DB.HEAT.BOTTOM.7.1JIC40314.PV          8143 non-null   float64\n",
      " 38  ROOF.HT.BAY.3.TOTAL.PWR.1CLBAY3_CPV    8143 non-null   float64\n",
      " 39  ROOF.HT.BAY.8.TOTAL.PWR.1CLBAY8_CPV    8143 non-null   float64\n",
      " 40  ROOF.HT.BAY.9.TOTAL.PWR.1CLBAY9_CPV    8143 non-null   float64\n",
      " 41  ROOF.HEATING.Zone.3.1JIC31103.PV.1     8143 non-null   float64\n",
      " 42  ROOF.HEATING.Zone.4.1JIC31104.PV.1     8143 non-null   float64\n",
      " 43  ROOF.HEATING.Zone.5.1JIC31105.PV       8143 non-null   float64\n",
      " 44  ROOF.HEATING.Zone.6.1JIC31106.PV       8143 non-null   float64\n",
      " 45  ROOF.HEATING.Zone21.1JIC31121.PV       8143 non-null   float64\n",
      " 46  ROOF.HEATING.Zone31.1JIC31131.PV       8143 non-null   float64\n",
      " 47  ROOF.HEATING.Zone39.1JIC31139.PV       8143 non-null   float64\n",
      " 48  ROOF.HEATING.Zone45.1JIC31145.PV       8143 non-null   float64\n",
      " 49  ROOF.HEATING.Zone53.1JIC31153.PV       8143 non-null   float64\n",
      " 50  ROOF.HEATING.Zone55.1JIC31155.PV       8143 non-null   float64\n",
      " 51  ROOF.HEATING.Zone57.1JIC31157.PV       8143 non-null   float64\n",
      " 52  ROOF.HEATING.Zone60.1JIC31160.PV       8143 non-null   float64\n",
      " 53  ROOF.HEATING.Zone73.1JIC31173.PV       8143 non-null   float64\n",
      " 54  ROOF.HEATING.Zone86.1JIC31186.PV       8143 non-null   float64\n",
      " 55  ATM.FLOW.SECT.2.N2.1FI33401.PV         8143 non-null   float64\n",
      " 56  ATM.FLOW.SECT.3.N2.1FI33403.PV         8143 non-null   float64\n",
      " 57  ATM.FLOW.SECT.6.N2.1FI33409.PV         8143 non-null   float64\n",
      " 58  ATM.FLOW.SECT.8.N2.1FI33413.PV         8143 non-null   float64\n",
      " 59  ATM.FLOW.SECT.1.N2.H2.1FI33424.PV      8143 non-null   float64\n",
      " 60  SPOUT.LEFT.UPSTREAM.1FI33511.PV        8143 non-null   float64\n",
      " 61  SPOUT.LEFT.TOP.1FI33514.PV             8143 non-null   float64\n",
      " 62  ATM.N2.H2.5..함유율.1CLFI33402_CPV        8143 non-null   float64\n",
      " 63  LOR.1.L.Hori                           8143 non-null   float64\n",
      " 64  LOR.2.L.Axis                           8143 non-null   float64\n",
      " 65  LOR.2.L.Hori                           8143 non-null   float64\n",
      " 66  LOR.3.L.Axis                           8143 non-null   float64\n",
      " 67  LOR.3.L.Hori                           8143 non-null   float64\n",
      " 68  l_r_tin_bay10                          8143 non-null   float64\n",
      " 69  lc_rc_btm_dn                           8143 non-null   float64\n",
      " 70  c_btm_up_dn                            8143 non-null   float64\n",
      " 71  top_1                                  8143 non-null   float64\n",
      " 72  top_5                                  8143 non-null   float64\n",
      " 73  D_AB2_L_LR                             8143 non-null   float64\n",
      " 74  D_AB5_L_LR                             8143 non-null   float64\n",
      " 75  D_AB10_U_LR                            8143 non-null   float64\n",
      " 76  D_AB11_U_LR                            8143 non-null   float64\n",
      " 77  D_AB11_L_LR                            8143 non-null   float64\n",
      " 78  D_AB2_R_UL                             8143 non-null   float64\n",
      " 79  D_AB9_R_UL                             8143 non-null   float64\n",
      " 80  D_C4_U_LR                              8143 non-null   float64\n",
      " 81  D_C4_L_LR                              8143 non-null   float64\n",
      " 82  D_GLS_F_LR                             8143 non-null   float64\n",
      " 83  D_GLS_RET_LR                           8143 non-null   float64\n",
      " 84  S_AB1_AB2_U_L                          8143 non-null   float64\n",
      " 85  S_AB1_AB2_U_R                          8143 non-null   float64\n",
      " 86  S_AB2_AB3_U_R                          8143 non-null   float64\n",
      " 87  S_AB8_AB9_L_L                          8143 non-null   float64\n",
      " 88  S_AB9_AB10_L_L                         8143 non-null   float64\n",
      " 89  S_C2_C3_U_R                            8143 non-null   float64\n",
      " 90  투입.LEFT.                               8143 non-null   float64\n",
      " 91  ROLLDOWN.폐기.LEFT.                      8143 non-null   float64\n",
      " 92  진공패드.폐기.LEFT.                          8143 non-null   float64\n",
      " 93  폐기율...                                 8143 non-null   float64\n",
      "dtypes: float64(94)\n",
      "memory usage: 5.9+ MB\n",
      "<class 'pandas.core.frame.DataFrame'>\n",
      "Index: 8143 entries, 2016-01-01 07:00:00 to 2016-12-31 23:00:00\n",
      "Data columns (total 1 columns):\n",
      " #   Column  Non-Null Count  Dtype  \n",
      "---  ------  --------------  -----  \n",
      " 0   L.RD    8143 non-null   float64\n",
      "dtypes: float64(1)\n",
      "memory usage: 127.2+ KB\n"
     ]
    }
   ],
   "source": [
    "import pandas as pd\n",
    "import numpy as np\n",
    "\n",
    "df = pd.read_csv('../00. 데이터 탐색 및 전처리/last_df.csv', index_col= 0)\n",
    "# df.info()\n",
    "\n",
    "X = df.iloc[:, :-2]\n",
    "target_1 = df.iloc[:, -2:-1]\n",
    "target_2 = df[['L.Vac']]\n",
    "\n",
    "X.info()\n",
    "target_1.info()"
   ]
  },
  {
   "cell_type": "code",
   "execution_count": 2,
   "metadata": {},
   "outputs": [
    {
     "data": {
      "text/plain": [
       "42"
      ]
     },
     "execution_count": 2,
     "metadata": {},
     "output_type": "execute_result"
    }
   ],
   "source": [
    "from sklearn.decomposition import PCA\n",
    "\n",
    "pca = PCA(n_components= 0.95, random_state= 42)\n",
    "X_pca = pca.fit_transform(X)\n",
    "pca.n_components_ # 42개의 피쳐\n",
    "\n",
    "# 생각해보니 pca는 새로운 피쳐로 피쳐 추출을 하는 방법이라 원래의 공정 중 중요한 공정을 알아볼 방법이 없네"
   ]
  },
  {
   "cell_type": "markdown",
   "metadata": {},
   "source": [
    "## 2. KNN"
   ]
  },
  {
   "cell_type": "code",
   "execution_count": 3,
   "metadata": {},
   "outputs": [],
   "source": [
    "# X.info() # 94 columns\n",
    "\n",
    "# 머신러닝 10개의 피쳐를 가진 예측 문제에서 선형 회귀 모델을 학습하려면 100~500개의 데이터 필요\n",
    "# 딥러닝 10개의 클래스를 분류하는 CNN모델의 경우 클래스당 1000개 이상 필요\n",
    "\n",
    "# 현재 약 100개의 피쳐\n",
    "\n",
    "# 해결 방법\n",
    "# 1) 언더샘플링 - 무작위 샘플링하여 데이터 비율 맞추는 방법(데이터 손실 주의)\n",
    "# 2) 오버샘플링 - 소수 클래스를 중복 생성하여 비율 맞추는 방법(과적합 주의)\n",
    "# 3) 차원 축소\n",
    "# 4) 클래스 가중치 조정 - 소수 클래스에 더 큰 가중치 부여 : sklearn의 class_weight 매개변수\n",
    "# 5) 앙상블 모델 - 여러 모델을 조합하여 성능을 내는 방법 - 랜덤 포레스트나 배깅과 같은 앙상블 기법\n",
    "\n",
    "# 평가 지표 선택\n",
    "# 불균형 데이터의 경우 정확도만으로 성능 평가가 어려움\n",
    "# 정밀도, 재현율, F1 점수, AUC-ROC\n",
    "\n",
    "# 랜덤 포레스트/XGBoost와 같은 머신 러닝 모델 시도\n",
    "# 충분한 성능을 얻지 못한다면 데이터 증강 및 오버 샘플링을 사용하여 딥러닝 모델 시도"
   ]
  },
  {
   "cell_type": "code",
   "execution_count": 7,
   "metadata": {},
   "outputs": [
    {
     "name": "stdout",
     "output_type": "stream",
     "text": [
      "<class 'pandas.core.frame.DataFrame'>\n",
      "Index: 8143 entries, 2016-01-01 07:00:00 to 2016-12-31 23:00:00\n",
      "Data columns (total 2 columns):\n",
      " #   Column          Non-Null Count  Dtype  \n",
      "---  ------          --------------  -----  \n",
      " 0   L.RD            8143 non-null   float64\n",
      " 1   target1_defect  8143 non-null   int32  \n",
      "dtypes: float64(1), int32(1)\n",
      "memory usage: 159.0+ KB\n"
     ]
    },
    {
     "name": "stderr",
     "output_type": "stream",
     "text": [
      "C:\\Users\\chjin\\AppData\\Local\\Temp\\ipykernel_12524\\1417299523.py:5: SettingWithCopyWarning: \n",
      "A value is trying to be set on a copy of a slice from a DataFrame.\n",
      "Try using .loc[row_indexer,col_indexer] = value instead\n",
      "\n",
      "See the caveats in the documentation: https://pandas.pydata.org/pandas-docs/stable/user_guide/indexing.html#returning-a-view-versus-a-copy\n",
      "  target_1['target1_defect'] = np.where(target_1['L.RD'] > target1_threshold, 1, 0) # 불량이 아닌 경우 0, 불량인 경우 1\n"
     ]
    },
    {
     "data": {
      "text/plain": [
       "target1_defect\n",
       "0    7741\n",
       "1     402\n",
       "Name: count, dtype: int64"
      ]
     },
     "execution_count": 7,
     "metadata": {},
     "output_type": "execute_result"
    }
   ],
   "source": [
    "target_1.info()\n",
    "\n",
    "# 상위 10%\n",
    "target1_threshold = np.percentile(target_1['L.RD'], 95)\n",
    "target_1['target1_defect'] = np.where(target_1['L.RD'] > target1_threshold, 1, 0) # 불량이 아닌 경우 0, 불량인 경우 1\n",
    "target_1['target1_defect'].value_counts()"
   ]
  },
  {
   "cell_type": "code",
   "execution_count": null,
   "metadata": {},
   "outputs": [],
   "source": [
    "# 아니면 사분위수 이용해서 이상치 설정하자\n",
    "# 폐기율 자체가 > 0.01이면 불량으로 본다\n"
   ]
  },
  {
   "cell_type": "code",
   "execution_count": 5,
   "metadata": {},
   "outputs": [
    {
     "ename": "NameError",
     "evalue": "name 'y' is not defined",
     "output_type": "error",
     "traceback": [
      "\u001b[1;31m---------------------------------------------------------------------------\u001b[0m",
      "\u001b[1;31mNameError\u001b[0m                                 Traceback (most recent call last)",
      "Cell \u001b[1;32mIn[5], line 5\u001b[0m\n\u001b[0;32m      2\u001b[0m \u001b[38;5;28;01mfrom\u001b[39;00m \u001b[38;5;21;01mcollections\u001b[39;00m \u001b[38;5;28;01mimport\u001b[39;00m Counter\n\u001b[0;32m      4\u001b[0m \u001b[38;5;66;03m# 데이터 분리\u001b[39;00m\n\u001b[1;32m----> 5\u001b[0m X_minority \u001b[38;5;241m=\u001b[39m X[y \u001b[38;5;241m==\u001b[39m \u001b[38;5;241m1\u001b[39m]  \u001b[38;5;66;03m# 소수 클래스 데이터\u001b[39;00m\n\u001b[0;32m      6\u001b[0m X_majority \u001b[38;5;241m=\u001b[39m X[y \u001b[38;5;241m==\u001b[39m \u001b[38;5;241m0\u001b[39m]  \u001b[38;5;66;03m# 다수 클래스 데이터\u001b[39;00m\n\u001b[0;32m      8\u001b[0m \u001b[38;5;66;03m# 소수 클래스 샘플 복제\u001b[39;00m\n",
      "\u001b[1;31mNameError\u001b[0m: name 'y' is not defined"
     ]
    }
   ],
   "source": [
    "import numpy as np\n",
    "from collections import Counter\n",
    "\n",
    "# 데이터 분리\n",
    "X_minority = X[y == 1]  # 소수 클래스 데이터\n",
    "X_majority = X[y == 0]  # 다수 클래스 데이터\n",
    "\n",
    "# 소수 클래스 샘플 복제\n",
    "n_majority = len(X_majority)\n",
    "n_minority = len(X_minority)\n",
    "n_to_generate = n_majority - n_minority  # 생성할 샘플 수\n",
    "\n",
    "# 복제 샘플 생성\n",
    "indices = np.random.choice(len(X_minority), size=n_to_generate, replace=True)\n",
    "X_oversampled = np.vstack([X, X_minority[indices]])\n",
    "y_oversampled = np.hstack([y, np.ones(n_to_generate)])\n",
    "\n",
    "print(f\"After Oversampling: {Counter(y_oversampled)}\")"
   ]
  },
  {
   "cell_type": "code",
   "execution_count": null,
   "metadata": {},
   "outputs": [
    {
     "name": "stdout",
     "output_type": "stream",
     "text": [
      "<class 'pandas.core.frame.DataFrame'>\n",
      "Index: 8143 entries, 2016-01-01 07:00:00 to 2016-12-31 23:00:00\n",
      "Data columns (total 1 columns):\n",
      " #   Column  Non-Null Count  Dtype  \n",
      "---  ------  --------------  -----  \n",
      " 0   L.Vac   8143 non-null   float64\n",
      "dtypes: float64(1)\n",
      "memory usage: 127.2+ KB\n"
     ]
    },
    {
     "name": "stderr",
     "output_type": "stream",
     "text": [
      "C:\\Users\\chjin\\AppData\\Local\\Temp\\ipykernel_11220\\906974176.py:5: SettingWithCopyWarning: \n",
      "A value is trying to be set on a copy of a slice from a DataFrame.\n",
      "Try using .loc[row_indexer,col_indexer] = value instead\n",
      "\n",
      "See the caveats in the documentation: https://pandas.pydata.org/pandas-docs/stable/user_guide/indexing.html#returning-a-view-versus-a-copy\n",
      "  target_2['target2_defect'] = np.where(target_2['L.Vac'] > target1_threshold, 1, 0)\n"
     ]
    },
    {
     "data": {
      "text/plain": [
       "target2_defect\n",
       "0    7338\n",
       "1     805\n",
       "Name: count, dtype: int64"
      ]
     },
     "execution_count": 50,
     "metadata": {},
     "output_type": "execute_result"
    }
   ],
   "source": [
    "target_2.info()\n",
    "\n",
    "# 상위 10%\n",
    "target1_threshold = np.percentile(target_2['L.Vac'], 95)\n",
    "target_2['target2_defect'] = np.where(target_2['L.Vac'] > target1_threshold, 1, 0)\n",
    "target_2['target2_defect'].value_counts()"
   ]
  },
  {
   "cell_type": "code",
   "execution_count": null,
   "metadata": {},
   "outputs": [],
   "source": [
    "from sklearn.neighbors import KNeighborsClassifier\n",
    "\n",
    "n_neighbors = [10, 30, 50, 70, 90]\n",
    "\n",
    "for n in n_neighbors :\n",
    "  knn_clf = KNeighborsClassifier(n_neighbors= n)\n",
    "  knn_clf."
   ]
  }
 ],
 "metadata": {
  "kernelspec": {
   "display_name": "base",
   "language": "python",
   "name": "python3"
  },
  "language_info": {
   "codemirror_mode": {
    "name": "ipython",
    "version": 3
   },
   "file_extension": ".py",
   "mimetype": "text/x-python",
   "name": "python",
   "nbconvert_exporter": "python",
   "pygments_lexer": "ipython3",
   "version": "3.11.5"
  }
 },
 "nbformat": 4,
 "nbformat_minor": 2
}
